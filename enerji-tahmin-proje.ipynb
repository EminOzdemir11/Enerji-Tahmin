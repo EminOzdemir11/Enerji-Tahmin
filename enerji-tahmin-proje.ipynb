{
 "cells": [
  {
   "cell_type": "markdown",
   "metadata": {
    "papermill": {
     "duration": 0.056979,
     "end_time": "2021-01-27T11:55:40.031148",
     "exception": false,
     "start_time": "2021-01-27T11:55:39.974169",
     "status": "completed"
    },
    "tags": []
   },
   "source": [
    "Bu projenin amacı 5 saatlik enerji tahmini yapabilmektir."
   ]
  },
  {
   "cell_type": "code",
   "execution_count": 1,
   "metadata": {
    "_cell_guid": "79c7e3d0-c299-4dcb-8224-4455121ee9b0",
    "_uuid": "d629ff2d2480ee46fbb7e2d37f6b5fab8052498a",
    "execution": {
     "iopub.execute_input": "2021-01-27T11:55:40.146210Z",
     "iopub.status.busy": "2021-01-27T11:55:40.145454Z",
     "iopub.status.idle": "2021-01-27T11:55:42.263039Z",
     "shell.execute_reply": "2021-01-27T11:55:42.261323Z"
    },
    "papermill": {
     "duration": 2.176923,
     "end_time": "2021-01-27T11:55:42.263199",
     "exception": false,
     "start_time": "2021-01-27T11:55:40.086276",
     "status": "completed"
    },
    "tags": []
   },
   "outputs": [],
   "source": [
    "import numpy as np\n",
    "import pandas as pd \n",
    "import seaborn as sns\n",
    "import matplotlib.pyplot as plt\n",
    "import xgboost as xgb\n",
    "from xgboost import plot_importance, plot_tree\n",
    "import sklearn.preprocessing\n",
    "from sklearn.metrics import mean_squared_error, mean_absolute_error\n"
   ]
  },
  {
   "cell_type": "code",
   "execution_count": 2,
   "metadata": {
    "execution": {
     "iopub.execute_input": "2021-01-27T11:55:42.393539Z",
     "iopub.status.busy": "2021-01-27T11:55:42.392693Z",
     "iopub.status.idle": "2021-01-27T11:55:42.474946Z",
     "shell.execute_reply": "2021-01-27T11:55:42.474275Z"
    },
    "papermill": {
     "duration": 0.157619,
     "end_time": "2021-01-27T11:55:42.475073",
     "exception": false,
     "start_time": "2021-01-27T11:55:42.317454",
     "status": "completed"
    },
    "tags": []
   },
   "outputs": [],
   "source": [
    "df = pd.read_csv('../input/hourly-energy-consumption/PJM_Load_hourly.csv', index_col=[0], parse_dates=[0])"
   ]
  },
  {
   "cell_type": "markdown",
   "metadata": {
    "papermill": {
     "duration": 0.053481,
     "end_time": "2021-01-27T11:55:42.582763",
     "exception": false,
     "start_time": "2021-01-27T11:55:42.529282",
     "status": "completed"
    },
    "tags": []
   },
   "source": [
    "Veri kontrolü yapıyorum"
   ]
  },
  {
   "cell_type": "code",
   "execution_count": 3,
   "metadata": {
    "execution": {
     "iopub.execute_input": "2021-01-27T11:55:42.699092Z",
     "iopub.status.busy": "2021-01-27T11:55:42.698351Z",
     "iopub.status.idle": "2021-01-27T11:55:42.702747Z",
     "shell.execute_reply": "2021-01-27T11:55:42.702225Z"
    },
    "papermill": {
     "duration": 0.06645,
     "end_time": "2021-01-27T11:55:42.702868",
     "exception": false,
     "start_time": "2021-01-27T11:55:42.636418",
     "status": "completed"
    },
    "tags": []
   },
   "outputs": [
    {
     "data": {
      "text/plain": [
       "PJM_Load_MW    0\n",
       "dtype: int64"
      ]
     },
     "execution_count": 3,
     "metadata": {},
     "output_type": "execute_result"
    }
   ],
   "source": [
    "df.isnull().sum()"
   ]
  },
  {
   "cell_type": "code",
   "execution_count": 4,
   "metadata": {
    "execution": {
     "iopub.execute_input": "2021-01-27T11:55:42.822461Z",
     "iopub.status.busy": "2021-01-27T11:55:42.821507Z",
     "iopub.status.idle": "2021-01-27T11:55:42.831177Z",
     "shell.execute_reply": "2021-01-27T11:55:42.830584Z"
    },
    "papermill": {
     "duration": 0.074051,
     "end_time": "2021-01-27T11:55:42.831339",
     "exception": false,
     "start_time": "2021-01-27T11:55:42.757288",
     "status": "completed"
    },
    "tags": []
   },
   "outputs": [
    {
     "data": {
      "text/html": [
       "<div>\n",
       "<style scoped>\n",
       "    .dataframe tbody tr th:only-of-type {\n",
       "        vertical-align: middle;\n",
       "    }\n",
       "\n",
       "    .dataframe tbody tr th {\n",
       "        vertical-align: top;\n",
       "    }\n",
       "\n",
       "    .dataframe thead th {\n",
       "        text-align: right;\n",
       "    }\n",
       "</style>\n",
       "<table border=\"1\" class=\"dataframe\">\n",
       "  <thead>\n",
       "    <tr style=\"text-align: right;\">\n",
       "      <th></th>\n",
       "      <th>PJM_Load_MW</th>\n",
       "    </tr>\n",
       "    <tr>\n",
       "      <th>Datetime</th>\n",
       "      <th></th>\n",
       "    </tr>\n",
       "  </thead>\n",
       "  <tbody>\n",
       "    <tr>\n",
       "      <th>1998-12-31 01:00:00</th>\n",
       "      <td>29309.0</td>\n",
       "    </tr>\n",
       "    <tr>\n",
       "      <th>1998-12-31 02:00:00</th>\n",
       "      <td>28236.0</td>\n",
       "    </tr>\n",
       "    <tr>\n",
       "      <th>1998-12-31 03:00:00</th>\n",
       "      <td>27692.0</td>\n",
       "    </tr>\n",
       "    <tr>\n",
       "      <th>1998-12-31 04:00:00</th>\n",
       "      <td>27596.0</td>\n",
       "    </tr>\n",
       "    <tr>\n",
       "      <th>1998-12-31 05:00:00</th>\n",
       "      <td>27888.0</td>\n",
       "    </tr>\n",
       "  </tbody>\n",
       "</table>\n",
       "</div>"
      ],
      "text/plain": [
       "                     PJM_Load_MW\n",
       "Datetime                        \n",
       "1998-12-31 01:00:00      29309.0\n",
       "1998-12-31 02:00:00      28236.0\n",
       "1998-12-31 03:00:00      27692.0\n",
       "1998-12-31 04:00:00      27596.0\n",
       "1998-12-31 05:00:00      27888.0"
      ]
     },
     "execution_count": 4,
     "metadata": {},
     "output_type": "execute_result"
    }
   ],
   "source": [
    "df.head(5)"
   ]
  },
  {
   "cell_type": "markdown",
   "metadata": {
    "papermill": {
     "duration": 0.055511,
     "end_time": "2021-01-27T11:55:42.942645",
     "exception": false,
     "start_time": "2021-01-27T11:55:42.887134",
     "status": "completed"
    },
    "tags": []
   },
   "source": [
    "ANALİZ\n",
    "Örneğin; belirli günlerde(iş günlerinde) ve zaman aralıklarında(kış mevsimi) kullanım farkı olması."
   ]
  },
  {
   "cell_type": "markdown",
   "metadata": {
    "papermill": {
     "duration": 0.054894,
     "end_time": "2021-01-27T11:55:43.053701",
     "exception": false,
     "start_time": "2021-01-27T11:55:42.998807",
     "status": "completed"
    },
    "tags": []
   },
   "source": [
    "Saatlik olan frekans yeniden örneklendirme ile günlük hale getirilecek."
   ]
  },
  {
   "cell_type": "code",
   "execution_count": 5,
   "metadata": {
    "execution": {
     "iopub.execute_input": "2021-01-27T11:55:43.169516Z",
     "iopub.status.busy": "2021-01-27T11:55:43.168765Z",
     "iopub.status.idle": "2021-01-27T11:55:43.206010Z",
     "shell.execute_reply": "2021-01-27T11:55:43.206552Z"
    },
    "papermill": {
     "duration": 0.098918,
     "end_time": "2021-01-27T11:55:43.206715",
     "exception": false,
     "start_time": "2021-01-27T11:55:43.107797",
     "status": "completed"
    },
    "tags": []
   },
   "outputs": [
    {
     "data": {
      "text/html": [
       "<div>\n",
       "<style scoped>\n",
       "    .dataframe tbody tr th:only-of-type {\n",
       "        vertical-align: middle;\n",
       "    }\n",
       "\n",
       "    .dataframe tbody tr th {\n",
       "        vertical-align: top;\n",
       "    }\n",
       "\n",
       "    .dataframe thead th {\n",
       "        text-align: right;\n",
       "    }\n",
       "</style>\n",
       "<table border=\"1\" class=\"dataframe\">\n",
       "  <thead>\n",
       "    <tr style=\"text-align: right;\">\n",
       "      <th></th>\n",
       "      <th>PJM_Load_MW</th>\n",
       "    </tr>\n",
       "    <tr>\n",
       "      <th>Datetime</th>\n",
       "      <th></th>\n",
       "    </tr>\n",
       "  </thead>\n",
       "  <tbody>\n",
       "    <tr>\n",
       "      <th>1998-04-01</th>\n",
       "      <td>639716.0</td>\n",
       "    </tr>\n",
       "    <tr>\n",
       "      <th>1998-04-02</th>\n",
       "      <td>638539.0</td>\n",
       "    </tr>\n",
       "    <tr>\n",
       "      <th>1998-04-03</th>\n",
       "      <td>616136.0</td>\n",
       "    </tr>\n",
       "    <tr>\n",
       "      <th>1998-04-04</th>\n",
       "      <td>587690.0</td>\n",
       "    </tr>\n",
       "    <tr>\n",
       "      <th>1998-04-05</th>\n",
       "      <td>540214.0</td>\n",
       "    </tr>\n",
       "    <tr>\n",
       "      <th>1998-04-06</th>\n",
       "      <td>640312.0</td>\n",
       "    </tr>\n",
       "    <tr>\n",
       "      <th>1998-04-07</th>\n",
       "      <td>643340.0</td>\n",
       "    </tr>\n",
       "    <tr>\n",
       "      <th>1998-04-08</th>\n",
       "      <td>636976.0</td>\n",
       "    </tr>\n",
       "    <tr>\n",
       "      <th>1998-04-09</th>\n",
       "      <td>657606.0</td>\n",
       "    </tr>\n",
       "    <tr>\n",
       "      <th>1998-04-10</th>\n",
       "      <td>601388.0</td>\n",
       "    </tr>\n",
       "  </tbody>\n",
       "</table>\n",
       "</div>"
      ],
      "text/plain": [
       "            PJM_Load_MW\n",
       "Datetime               \n",
       "1998-04-01     639716.0\n",
       "1998-04-02     638539.0\n",
       "1998-04-03     616136.0\n",
       "1998-04-04     587690.0\n",
       "1998-04-05     540214.0\n",
       "1998-04-06     640312.0\n",
       "1998-04-07     643340.0\n",
       "1998-04-08     636976.0\n",
       "1998-04-09     657606.0\n",
       "1998-04-10     601388.0"
      ]
     },
     "execution_count": 5,
     "metadata": {},
     "output_type": "execute_result"
    }
   ],
   "source": [
    "daily_data = df.resample(rule='D').sum()\n",
    "\n",
    "daily_data = daily_data.asfreq('D')\n",
    "\n",
    "daily_data.head(10)"
   ]
  },
  {
   "cell_type": "code",
   "execution_count": 6,
   "metadata": {
    "execution": {
     "iopub.execute_input": "2021-01-27T11:55:43.324673Z",
     "iopub.status.busy": "2021-01-27T11:55:43.323616Z",
     "iopub.status.idle": "2021-01-27T11:55:43.329272Z",
     "shell.execute_reply": "2021-01-27T11:55:43.328655Z"
    },
    "papermill": {
     "duration": 0.067285,
     "end_time": "2021-01-27T11:55:43.329386",
     "exception": false,
     "start_time": "2021-01-27T11:55:43.262101",
     "status": "completed"
    },
    "tags": []
   },
   "outputs": [
    {
     "data": {
      "text/plain": [
       "DatetimeIndex(['1998-04-01', '1998-04-02', '1998-04-03', '1998-04-04',\n",
       "               '1998-04-05', '1998-04-06', '1998-04-07', '1998-04-08',\n",
       "               '1998-04-09', '1998-04-10',\n",
       "               ...\n",
       "               '2001-12-23', '2001-12-24', '2001-12-25', '2001-12-26',\n",
       "               '2001-12-27', '2001-12-28', '2001-12-29', '2001-12-30',\n",
       "               '2001-12-31', '2002-01-01'],\n",
       "              dtype='datetime64[ns]', name='Datetime', length=1372, freq='D')"
      ]
     },
     "execution_count": 6,
     "metadata": {},
     "output_type": "execute_result"
    }
   ],
   "source": [
    "daily_data.index"
   ]
  },
  {
   "cell_type": "code",
   "execution_count": 7,
   "metadata": {
    "execution": {
     "iopub.execute_input": "2021-01-27T11:55:43.450331Z",
     "iopub.status.busy": "2021-01-27T11:55:43.449609Z",
     "iopub.status.idle": "2021-01-27T11:55:43.871869Z",
     "shell.execute_reply": "2021-01-27T11:55:43.871166Z"
    },
    "papermill": {
     "duration": 0.483046,
     "end_time": "2021-01-27T11:55:43.872011",
     "exception": false,
     "start_time": "2021-01-27T11:55:43.388965",
     "status": "completed"
    },
    "tags": []
   },
   "outputs": [
    {
     "data": {
      "image/png": "[encoded data removed]",
      "text/plain": [
       "<Figure size 432x288 with 1 Axes>"
      ]
     },
     "metadata": {
      "needs_background": "light"
     },
     "output_type": "display_data"
    }
   ],
   "source": [
    "daily_data.plot()\n",
    "\n",
    "plt.show()"
   ]
  },
  {
   "cell_type": "markdown",
   "metadata": {
    "papermill": {
     "duration": 0.056508,
     "end_time": "2021-01-27T11:55:43.985449",
     "exception": false,
     "start_time": "2021-01-27T11:55:43.928941",
     "status": "completed"
    },
    "tags": []
   },
   "source": [
    "Now there's a tail end where it's not a full day, so it's dropping off.\n",
    "\n",
    "For our purposes, we will just delete that part day."
   ]
  },
  {
   "cell_type": "code",
   "execution_count": 8,
   "metadata": {
    "execution": {
     "iopub.execute_input": "2021-01-27T11:55:44.114082Z",
     "iopub.status.busy": "2021-01-27T11:55:44.113334Z",
     "iopub.status.idle": "2021-01-27T11:55:44.117475Z",
     "shell.execute_reply": "2021-01-27T11:55:44.116772Z"
    },
    "papermill": {
     "duration": 0.073877,
     "end_time": "2021-01-27T11:55:44.117592",
     "exception": false,
     "start_time": "2021-01-27T11:55:44.043715",
     "status": "completed"
    },
    "tags": []
   },
   "outputs": [],
   "source": [
    "daily_data = daily_data.drop([daily_data.index.min(), daily_data.index.max()])"
   ]
  },
  {
   "cell_type": "markdown",
   "metadata": {
    "papermill": {
     "duration": 0.056503,
     "end_time": "2021-01-27T11:55:44.231872",
     "exception": false,
     "start_time": "2021-01-27T11:55:44.175369",
     "status": "completed"
    },
    "tags": []
   },
   "source": [
    "As you can see the graph is now neat."
   ]
  },
  {
   "cell_type": "code",
   "execution_count": 9,
   "metadata": {
    "execution": {
     "iopub.execute_input": "2021-01-27T11:55:44.362049Z",
     "iopub.status.busy": "2021-01-27T11:55:44.361342Z",
     "iopub.status.idle": "2021-01-27T11:55:44.687452Z",
     "shell.execute_reply": "2021-01-27T11:55:44.687984Z"
    },
    "papermill": {
     "duration": 0.398089,
     "end_time": "2021-01-27T11:55:44.688145",
     "exception": false,
     "start_time": "2021-01-27T11:55:44.290056",
     "status": "completed"
    },
    "tags": []
   },
   "outputs": [
    {
     "data": {
      "image/png": "[encoded data removed]",
      "text/plain": [
       "<Figure size 432x288 with 1 Axes>"
      ]
     },
     "metadata": {
      "needs_background": "light"
     },
     "output_type": "display_data"
    }
   ],
   "source": [
    "daily_data.plot()\n",
    "\n",
    "plt.show()"
   ]
  },
  {
   "cell_type": "markdown",
   "metadata": {
    "papermill": {
     "duration": 0.060378,
     "end_time": "2021-01-27T11:55:44.809176",
     "exception": false,
     "start_time": "2021-01-27T11:55:44.748798",
     "status": "completed"
    },
    "tags": []
   },
   "source": [
    "Mevsimsel ayrıştırma yapıyorum.\n",
    "\n"
   ]
  },
  {
   "cell_type": "code",
   "execution_count": 10,
   "metadata": {
    "execution": {
     "iopub.execute_input": "2021-01-27T11:55:44.933374Z",
     "iopub.status.busy": "2021-01-27T11:55:44.932649Z",
     "iopub.status.idle": "2021-01-27T11:55:45.871211Z",
     "shell.execute_reply": "2021-01-27T11:55:45.870507Z"
    },
    "papermill": {
     "duration": 1.00279,
     "end_time": "2021-01-27T11:55:45.871334",
     "exception": false,
     "start_time": "2021-01-27T11:55:44.868544",
     "status": "completed"
    },
    "tags": []
   },
   "outputs": [
    {
     "name": "stdout",
     "output_type": "stream",
     "text": [
      "Figure(432x288)\n"
     ]
    },
    {
     "data": {
      "image/png": "[encoded data removed]",
      "text/plain": [
       "<Figure size 432x288 with 4 Axes>"
      ]
     },
     "metadata": {
      "needs_background": "light"
     },
     "output_type": "display_data"
    }
   ],
   "source": [
    "from statsmodels.tsa.seasonal import seasonal_decompose\n",
    "from matplotlib.dates import DateFormatter\n",
    "decomposition = seasonal_decompose(daily_data, model='additive')\n",
    "\n",
    "fig = decomposition.plot()\n",
    "\n",
    "print(fig)\n",
    "\n",
    "\n",
    "\n",
    "plt.show()"
   ]
  },
  {
   "cell_type": "markdown",
   "metadata": {
    "papermill": {
     "duration": 0.062918,
     "end_time": "2021-01-27T11:55:45.996298",
     "exception": false,
     "start_time": "2021-01-27T11:55:45.933380",
     "status": "completed"
    },
    "tags": []
   },
   "source": [
    "Haftalık seviyeye getirerek gürültüyü azaltacağım."
   ]
  },
  {
   "cell_type": "code",
   "execution_count": 11,
   "metadata": {
    "execution": {
     "iopub.execute_input": "2021-01-27T11:55:46.128189Z",
     "iopub.status.busy": "2021-01-27T11:55:46.127197Z",
     "iopub.status.idle": "2021-01-27T11:55:46.933669Z",
     "shell.execute_reply": "2021-01-27T11:55:46.932740Z"
    },
    "papermill": {
     "duration": 0.873903,
     "end_time": "2021-01-27T11:55:46.933821",
     "exception": false,
     "start_time": "2021-01-27T11:55:46.059918",
     "status": "completed"
    },
    "tags": []
   },
   "outputs": [
    {
     "data": {
      "image/png": "[encoded data removed]",
      "text/plain": [
       "<Figure size 432x288 with 4 Axes>"
      ]
     },
     "metadata": {
      "needs_background": "light"
     },
     "output_type": "display_data"
    }
   ],
   "source": [
    "\n",
    "weekly_data = df.resample(rule='W').sum()\n",
    "decomposition = seasonal_decompose(weekly_data, model='additive') \n",
    "\n",
    "fig = decomposition.plot()\n",
    "plt.show()"
   ]
  },
  {
   "cell_type": "markdown",
   "metadata": {
    "papermill": {
     "duration": 0.062473,
     "end_time": "2021-01-27T11:55:47.058519",
     "exception": false,
     "start_time": "2021-01-27T11:55:46.996046",
     "status": "completed"
    },
    "tags": []
   },
   "source": [
    "Elektrik kullanımını günlük kıyas olarak görebilmek için haftaya dayandıracağım."
   ]
  },
  {
   "cell_type": "code",
   "execution_count": 12,
   "metadata": {
    "execution": {
     "iopub.execute_input": "2021-01-27T11:55:47.191749Z",
     "iopub.status.busy": "2021-01-27T11:55:47.191040Z",
     "iopub.status.idle": "2021-01-27T11:55:47.194962Z",
     "shell.execute_reply": "2021-01-27T11:55:47.194314Z"
    },
    "papermill": {
     "duration": 0.074868,
     "end_time": "2021-01-27T11:55:47.195106",
     "exception": false,
     "start_time": "2021-01-27T11:55:47.120238",
     "status": "completed"
    },
    "tags": []
   },
   "outputs": [
    {
     "name": "stdout",
     "output_type": "stream",
     "text": [
      "            PJM_Load_MW\n",
      "Datetime               \n",
      "1998-04-02     638539.0\n",
      "1998-04-03     616136.0\n",
      "1998-04-04     587690.0\n",
      "1998-04-05     540214.0\n",
      "1998-04-06     640312.0\n",
      "...                 ...\n",
      "2001-12-27     794222.0\n",
      "2001-12-28     779757.0\n",
      "2001-12-29     721638.0\n",
      "2001-12-30     743012.0\n",
      "2001-12-31     782528.0\n",
      "\n",
      "[1370 rows x 1 columns]\n"
     ]
    }
   ],
   "source": [
    "print(daily_data)"
   ]
  },
  {
   "cell_type": "code",
   "execution_count": 13,
   "metadata": {
    "execution": {
     "iopub.execute_input": "2021-01-27T11:55:47.338134Z",
     "iopub.status.busy": "2021-01-27T11:55:47.333484Z",
     "iopub.status.idle": "2021-01-27T11:55:47.368134Z",
     "shell.execute_reply": "2021-01-27T11:55:47.367524Z"
    },
    "papermill": {
     "duration": 0.109906,
     "end_time": "2021-01-27T11:55:47.368277",
     "exception": false,
     "start_time": "2021-01-27T11:55:47.258371",
     "status": "completed"
    },
    "tags": []
   },
   "outputs": [
    {
     "data": {
      "text/html": [
       "<div>\n",
       "<style scoped>\n",
       "    .dataframe tbody tr th:only-of-type {\n",
       "        vertical-align: middle;\n",
       "    }\n",
       "\n",
       "    .dataframe tbody tr th {\n",
       "        vertical-align: top;\n",
       "    }\n",
       "\n",
       "    .dataframe thead th {\n",
       "        text-align: right;\n",
       "    }\n",
       "</style>\n",
       "<table border=\"1\" class=\"dataframe\">\n",
       "  <thead>\n",
       "    <tr style=\"text-align: right;\">\n",
       "      <th>Weekday_Name</th>\n",
       "      <th>Monday</th>\n",
       "      <th>Tuesday</th>\n",
       "      <th>Wednesday</th>\n",
       "      <th>Thursday</th>\n",
       "      <th>Friday</th>\n",
       "      <th>Saturday</th>\n",
       "      <th>Sunday</th>\n",
       "    </tr>\n",
       "    <tr>\n",
       "      <th>Year</th>\n",
       "      <th></th>\n",
       "      <th></th>\n",
       "      <th></th>\n",
       "      <th></th>\n",
       "      <th></th>\n",
       "      <th></th>\n",
       "      <th></th>\n",
       "    </tr>\n",
       "  </thead>\n",
       "  <tbody>\n",
       "    <tr>\n",
       "      <th>1999</th>\n",
       "      <td>38092135.0</td>\n",
       "      <td>38774129.0</td>\n",
       "      <td>38516979.0</td>\n",
       "      <td>37965959.0</td>\n",
       "      <td>38300748.0</td>\n",
       "      <td>34520449.0</td>\n",
       "      <td>33434778.0</td>\n",
       "    </tr>\n",
       "    <tr>\n",
       "      <th>2000</th>\n",
       "      <td>38416086.0</td>\n",
       "      <td>39004068.0</td>\n",
       "      <td>39083248.0</td>\n",
       "      <td>38801343.0</td>\n",
       "      <td>38697257.0</td>\n",
       "      <td>35938239.0</td>\n",
       "      <td>34523833.0</td>\n",
       "    </tr>\n",
       "    <tr>\n",
       "      <th>2001</th>\n",
       "      <td>39346716.0</td>\n",
       "      <td>39513252.0</td>\n",
       "      <td>39569076.0</td>\n",
       "      <td>39546228.0</td>\n",
       "      <td>38758308.0</td>\n",
       "      <td>34952537.0</td>\n",
       "      <td>33667690.0</td>\n",
       "    </tr>\n",
       "  </tbody>\n",
       "</table>\n",
       "</div>"
      ],
      "text/plain": [
       "Weekday_Name      Monday     Tuesday   Wednesday    Thursday      Friday  \\\n",
       "Year                                                                       \n",
       "1999          38092135.0  38774129.0  38516979.0  37965959.0  38300748.0   \n",
       "2000          38416086.0  39004068.0  39083248.0  38801343.0  38697257.0   \n",
       "2001          39346716.0  39513252.0  39569076.0  39546228.0  38758308.0   \n",
       "\n",
       "Weekday_Name    Saturday      Sunday  \n",
       "Year                                  \n",
       "1999          34520449.0  33434778.0  \n",
       "2000          35938239.0  34523833.0  \n",
       "2001          34952537.0  33667690.0  "
      ]
     },
     "execution_count": 13,
     "metadata": {},
     "output_type": "execute_result"
    }
   ],
   "source": [
    "heatmap_data = daily_data.copy()\n",
    "\n",
    "heatmap_data['Weekday_Name'] = daily_data.index.day_name()\n",
    "\n",
    "heatmap_data['Year'] =  heatmap_data.index.year\n",
    "heatmap_data = heatmap_data.groupby(['Year', 'Weekday_Name']).sum()\n",
    " \n",
    "heatmap_data = heatmap_data.reset_index()\n",
    "\n",
    "heatmap_data = heatmap_data[heatmap_data['Year'] != 1998]\n",
    "heatmap_data = heatmap_data[heatmap_data['Year'] != 2002]\n",
    "\n",
    "heatmap_data = heatmap_data.pivot(index='Year', columns='Weekday_Name', values='PJM_Load_MW')\n",
    "\n",
    "heatmap_data = heatmap_data[['Monday', 'Tuesday', 'Wednesday', 'Thursday', 'Friday', 'Saturday', 'Sunday']]\n",
    "\n",
    "heatmap_data.head()"
   ]
  },
  {
   "cell_type": "code",
   "execution_count": 14,
   "metadata": {
    "execution": {
     "iopub.execute_input": "2021-01-27T11:55:47.511924Z",
     "iopub.status.busy": "2021-01-27T11:55:47.511208Z",
     "iopub.status.idle": "2021-01-27T11:55:47.719735Z",
     "shell.execute_reply": "2021-01-27T11:55:47.719094Z"
    },
    "papermill": {
     "duration": 0.288259,
     "end_time": "2021-01-27T11:55:47.719922",
     "exception": false,
     "start_time": "2021-01-27T11:55:47.431663",
     "status": "completed"
    },
    "tags": []
   },
   "outputs": [
    {
     "data": {
      "text/plain": [
       "Text(0.5, 1.0, 'Heatmap - by Day of Week')"
      ]
     },
     "execution_count": 14,
     "metadata": {},
     "output_type": "execute_result"
    },
    {
     "data": {
      "image/png": "[encoded data removed]",
      "text/plain": [
       "<Figure size 432x288 with 2 Axes>"
      ]
     },
     "metadata": {
      "needs_background": "light"
     },
     "output_type": "display_data"
    }
   ],
   "source": [
    "sns.heatmap(heatmap_data, linewidths=.5, cmap='YlOrRd', cbar=True, cbar_kws={\"format\": '%1.0f MWh'}).set_title('Heatmap - by Day of Week')"
   ]
  },
  {
   "cell_type": "code",
   "execution_count": 15,
   "metadata": {
    "execution": {
     "iopub.execute_input": "2021-01-27T11:55:47.861169Z",
     "iopub.status.busy": "2021-01-27T11:55:47.860411Z",
     "iopub.status.idle": "2021-01-27T11:55:47.910039Z",
     "shell.execute_reply": "2021-01-27T11:55:47.909421Z"
    },
    "papermill": {
     "duration": 0.125114,
     "end_time": "2021-01-27T11:55:47.910156",
     "exception": false,
     "start_time": "2021-01-27T11:55:47.785042",
     "status": "completed"
    },
    "tags": []
   },
   "outputs": [
    {
     "data": {
      "text/html": [
       "<div>\n",
       "<style scoped>\n",
       "    .dataframe tbody tr th:only-of-type {\n",
       "        vertical-align: middle;\n",
       "    }\n",
       "\n",
       "    .dataframe tbody tr th {\n",
       "        vertical-align: top;\n",
       "    }\n",
       "\n",
       "    .dataframe thead th {\n",
       "        text-align: right;\n",
       "    }\n",
       "</style>\n",
       "<table border=\"1\" class=\"dataframe\">\n",
       "  <thead>\n",
       "    <tr style=\"text-align: right;\">\n",
       "      <th>Hour</th>\n",
       "      <th>0</th>\n",
       "      <th>1</th>\n",
       "      <th>2</th>\n",
       "      <th>3</th>\n",
       "      <th>4</th>\n",
       "      <th>5</th>\n",
       "      <th>6</th>\n",
       "      <th>7</th>\n",
       "      <th>8</th>\n",
       "      <th>9</th>\n",
       "      <th>...</th>\n",
       "      <th>14</th>\n",
       "      <th>15</th>\n",
       "      <th>16</th>\n",
       "      <th>17</th>\n",
       "      <th>18</th>\n",
       "      <th>19</th>\n",
       "      <th>20</th>\n",
       "      <th>21</th>\n",
       "      <th>22</th>\n",
       "      <th>23</th>\n",
       "    </tr>\n",
       "    <tr>\n",
       "      <th>Year</th>\n",
       "      <th></th>\n",
       "      <th></th>\n",
       "      <th></th>\n",
       "      <th></th>\n",
       "      <th></th>\n",
       "      <th></th>\n",
       "      <th></th>\n",
       "      <th></th>\n",
       "      <th></th>\n",
       "      <th></th>\n",
       "      <th></th>\n",
       "      <th></th>\n",
       "      <th></th>\n",
       "      <th></th>\n",
       "      <th></th>\n",
       "      <th></th>\n",
       "      <th></th>\n",
       "      <th></th>\n",
       "      <th></th>\n",
       "      <th></th>\n",
       "      <th></th>\n",
       "    </tr>\n",
       "  </thead>\n",
       "  <tbody>\n",
       "    <tr>\n",
       "      <th>1999</th>\n",
       "      <td>9943437.0</td>\n",
       "      <td>9188610.0</td>\n",
       "      <td>8744167.0</td>\n",
       "      <td>8535105.0</td>\n",
       "      <td>8452873.0</td>\n",
       "      <td>8537766.0</td>\n",
       "      <td>9009618.0</td>\n",
       "      <td>9926724.0</td>\n",
       "      <td>10697629.0</td>\n",
       "      <td>11168242.0</td>\n",
       "      <td>...</td>\n",
       "      <td>11853079.0</td>\n",
       "      <td>11802746.0</td>\n",
       "      <td>11782744.0</td>\n",
       "      <td>11923339.0</td>\n",
       "      <td>12210668.0</td>\n",
       "      <td>12237325.0</td>\n",
       "      <td>12112759.0</td>\n",
       "      <td>12026547.0</td>\n",
       "      <td>11671503.0</td>\n",
       "      <td>10849426.0</td>\n",
       "    </tr>\n",
       "    <tr>\n",
       "      <th>2000</th>\n",
       "      <td>10157201.0</td>\n",
       "      <td>9402403.0</td>\n",
       "      <td>8955261.0</td>\n",
       "      <td>8737767.0</td>\n",
       "      <td>8662359.0</td>\n",
       "      <td>8755669.0</td>\n",
       "      <td>9232708.0</td>\n",
       "      <td>10150397.0</td>\n",
       "      <td>10927040.0</td>\n",
       "      <td>11405389.0</td>\n",
       "      <td>...</td>\n",
       "      <td>12021257.0</td>\n",
       "      <td>11973195.0</td>\n",
       "      <td>11948742.0</td>\n",
       "      <td>12084552.0</td>\n",
       "      <td>12380480.0</td>\n",
       "      <td>12432455.0</td>\n",
       "      <td>12333560.0</td>\n",
       "      <td>12244055.0</td>\n",
       "      <td>11881815.0</td>\n",
       "      <td>11058985.0</td>\n",
       "    </tr>\n",
       "    <tr>\n",
       "      <th>2001</th>\n",
       "      <td>10151442.0</td>\n",
       "      <td>9402676.0</td>\n",
       "      <td>8949210.0</td>\n",
       "      <td>8719579.0</td>\n",
       "      <td>8639831.0</td>\n",
       "      <td>8735126.0</td>\n",
       "      <td>9216468.0</td>\n",
       "      <td>10137226.0</td>\n",
       "      <td>10912751.0</td>\n",
       "      <td>11398506.0</td>\n",
       "      <td>...</td>\n",
       "      <td>12117027.0</td>\n",
       "      <td>12072650.0</td>\n",
       "      <td>12052017.0</td>\n",
       "      <td>12190374.0</td>\n",
       "      <td>12484562.0</td>\n",
       "      <td>12523344.0</td>\n",
       "      <td>12402059.0</td>\n",
       "      <td>12320561.0</td>\n",
       "      <td>11933403.0</td>\n",
       "      <td>11072587.0</td>\n",
       "    </tr>\n",
       "  </tbody>\n",
       "</table>\n",
       "<p>3 rows × 24 columns</p>\n",
       "</div>"
      ],
      "text/plain": [
       "Hour          0          1          2          3          4          5   \\\n",
       "Year                                                                      \n",
       "1999   9943437.0  9188610.0  8744167.0  8535105.0  8452873.0  8537766.0   \n",
       "2000  10157201.0  9402403.0  8955261.0  8737767.0  8662359.0  8755669.0   \n",
       "2001  10151442.0  9402676.0  8949210.0  8719579.0  8639831.0  8735126.0   \n",
       "\n",
       "Hour         6           7           8           9   ...          14  \\\n",
       "Year                                                 ...               \n",
       "1999  9009618.0   9926724.0  10697629.0  11168242.0  ...  11853079.0   \n",
       "2000  9232708.0  10150397.0  10927040.0  11405389.0  ...  12021257.0   \n",
       "2001  9216468.0  10137226.0  10912751.0  11398506.0  ...  12117027.0   \n",
       "\n",
       "Hour          15          16          17          18          19          20  \\\n",
       "Year                                                                           \n",
       "1999  11802746.0  11782744.0  11923339.0  12210668.0  12237325.0  12112759.0   \n",
       "2000  11973195.0  11948742.0  12084552.0  12380480.0  12432455.0  12333560.0   \n",
       "2001  12072650.0  12052017.0  12190374.0  12484562.0  12523344.0  12402059.0   \n",
       "\n",
       "Hour          21          22          23  \n",
       "Year                                      \n",
       "1999  12026547.0  11671503.0  10849426.0  \n",
       "2000  12244055.0  11881815.0  11058985.0  \n",
       "2001  12320561.0  11933403.0  11072587.0  \n",
       "\n",
       "[3 rows x 24 columns]"
      ]
     },
     "execution_count": 15,
     "metadata": {},
     "output_type": "execute_result"
    }
   ],
   "source": [
    "heatmap_data = df.copy()\n",
    "\n",
    "heatmap_data['Hour'] = df.index.hour\n",
    "\n",
    "heatmap_data['Year'] =  heatmap_data.index.year\n",
    "heatmap_data = heatmap_data.groupby(['Year', 'Hour']).sum()\n",
    " \n",
    "heatmap_data = heatmap_data.reset_index()\n",
    "\n",
    "heatmap_data = heatmap_data[heatmap_data['Year'] != 1998]\n",
    "heatmap_data = heatmap_data[heatmap_data['Year'] != 2002]\n",
    "\n",
    "heatmap_data = heatmap_data.pivot(index='Year', columns='Hour', values='PJM_Load_MW')\n",
    "\n",
    "heatmap_data.head(100)"
   ]
  },
  {
   "cell_type": "code",
   "execution_count": 16,
   "metadata": {
    "execution": {
     "iopub.execute_input": "2021-01-27T11:55:48.060409Z",
     "iopub.status.busy": "2021-01-27T11:55:48.053591Z",
     "iopub.status.idle": "2021-01-27T11:55:48.368987Z",
     "shell.execute_reply": "2021-01-27T11:55:48.368251Z"
    },
    "papermill": {
     "duration": 0.391732,
     "end_time": "2021-01-27T11:55:48.369106",
     "exception": false,
     "start_time": "2021-01-27T11:55:47.977374",
     "status": "completed"
    },
    "tags": []
   },
   "outputs": [
    {
     "data": {
      "text/plain": [
       "Text(0.5, 1.0, 'Heatmap - by Hour of Day')"
      ]
     },
     "execution_count": 16,
     "metadata": {},
     "output_type": "execute_result"
    },
    {
     "data": {
      "image/png": "[encoded data removed]",
      "text/plain": [
       "<Figure size 432x288 with 2 Axes>"
      ]
     },
     "metadata": {
      "needs_background": "light"
     },
     "output_type": "display_data"
    }
   ],
   "source": [
    "sns.heatmap(heatmap_data, linewidths=.5, cmap='YlOrRd', cbar=True, cbar_kws={\"format\": '%1.0f MWh'}).set_title('Heatmap - by Hour of Day')"
   ]
  },
  {
   "cell_type": "markdown",
   "metadata": {
    "papermill": {
     "duration": 0.066643,
     "end_time": "2021-01-27T11:55:48.503613",
     "exception": false,
     "start_time": "2021-01-27T11:55:48.436970",
     "status": "completed"
    },
    "tags": []
   },
   "source": [
    "Yıllık periyot olarakta bakalım."
   ]
  },
  {
   "cell_type": "code",
   "execution_count": 17,
   "metadata": {
    "execution": {
     "iopub.execute_input": "2021-01-27T11:55:48.652971Z",
     "iopub.status.busy": "2021-01-27T11:55:48.648548Z",
     "iopub.status.idle": "2021-01-27T11:55:48.682525Z",
     "shell.execute_reply": "2021-01-27T11:55:48.683101Z"
    },
    "papermill": {
     "duration": 0.112886,
     "end_time": "2021-01-27T11:55:48.683280",
     "exception": false,
     "start_time": "2021-01-27T11:55:48.570394",
     "status": "completed"
    },
    "tags": []
   },
   "outputs": [
    {
     "data": {
      "text/html": [
       "<div>\n",
       "<style scoped>\n",
       "    .dataframe tbody tr th:only-of-type {\n",
       "        vertical-align: middle;\n",
       "    }\n",
       "\n",
       "    .dataframe tbody tr th {\n",
       "        vertical-align: top;\n",
       "    }\n",
       "\n",
       "    .dataframe thead th {\n",
       "        text-align: right;\n",
       "    }\n",
       "</style>\n",
       "<table border=\"1\" class=\"dataframe\">\n",
       "  <thead>\n",
       "    <tr style=\"text-align: right;\">\n",
       "      <th>Month</th>\n",
       "      <th>January</th>\n",
       "      <th>February</th>\n",
       "      <th>March</th>\n",
       "      <th>April</th>\n",
       "      <th>May</th>\n",
       "      <th>June</th>\n",
       "      <th>July</th>\n",
       "      <th>August</th>\n",
       "      <th>September</th>\n",
       "      <th>October</th>\n",
       "      <th>November</th>\n",
       "      <th>December</th>\n",
       "    </tr>\n",
       "    <tr>\n",
       "      <th>Year</th>\n",
       "      <th></th>\n",
       "      <th></th>\n",
       "      <th></th>\n",
       "      <th></th>\n",
       "      <th></th>\n",
       "      <th></th>\n",
       "      <th></th>\n",
       "      <th></th>\n",
       "      <th></th>\n",
       "      <th></th>\n",
       "      <th></th>\n",
       "      <th></th>\n",
       "    </tr>\n",
       "  </thead>\n",
       "  <tbody>\n",
       "    <tr>\n",
       "      <th>1998</th>\n",
       "      <td>NaN</td>\n",
       "      <td>NaN</td>\n",
       "      <td>NaN</td>\n",
       "      <td>17618486.0</td>\n",
       "      <td>19914613.0</td>\n",
       "      <td>21413823.0</td>\n",
       "      <td>24449999.0</td>\n",
       "      <td>24685281.0</td>\n",
       "      <td>21446221.0</td>\n",
       "      <td>19094647.0</td>\n",
       "      <td>19145916.0</td>\n",
       "      <td>21333067.0</td>\n",
       "    </tr>\n",
       "    <tr>\n",
       "      <th>1999</th>\n",
       "      <td>22901603.0</td>\n",
       "      <td>19989436.0</td>\n",
       "      <td>21448620.0</td>\n",
       "      <td>18416083.0</td>\n",
       "      <td>19243349.0</td>\n",
       "      <td>22707744.0</td>\n",
       "      <td>27487675.0</td>\n",
       "      <td>24908011.0</td>\n",
       "      <td>20981847.0</td>\n",
       "      <td>19648508.0</td>\n",
       "      <td>19600795.0</td>\n",
       "      <td>22271506.0</td>\n",
       "    </tr>\n",
       "    <tr>\n",
       "      <th>2000</th>\n",
       "      <td>24061729.0</td>\n",
       "      <td>21501663.0</td>\n",
       "      <td>20759960.0</td>\n",
       "      <td>18969551.0</td>\n",
       "      <td>20711085.0</td>\n",
       "      <td>23472915.0</td>\n",
       "      <td>23660398.0</td>\n",
       "      <td>24498907.0</td>\n",
       "      <td>21368483.0</td>\n",
       "      <td>20156640.0</td>\n",
       "      <td>20720606.0</td>\n",
       "      <td>24582137.0</td>\n",
       "    </tr>\n",
       "    <tr>\n",
       "      <th>2001</th>\n",
       "      <td>24335585.0</td>\n",
       "      <td>20886586.0</td>\n",
       "      <td>22292885.0</td>\n",
       "      <td>19407746.0</td>\n",
       "      <td>20434869.0</td>\n",
       "      <td>23710239.0</td>\n",
       "      <td>24317498.0</td>\n",
       "      <td>27128576.0</td>\n",
       "      <td>20971032.0</td>\n",
       "      <td>20318878.0</td>\n",
       "      <td>19585025.0</td>\n",
       "      <td>21964888.0</td>\n",
       "    </tr>\n",
       "  </tbody>\n",
       "</table>\n",
       "</div>"
      ],
      "text/plain": [
       "Month     January    February       March       April         May        June  \\\n",
       "Year                                                                            \n",
       "1998          NaN         NaN         NaN  17618486.0  19914613.0  21413823.0   \n",
       "1999   22901603.0  19989436.0  21448620.0  18416083.0  19243349.0  22707744.0   \n",
       "2000   24061729.0  21501663.0  20759960.0  18969551.0  20711085.0  23472915.0   \n",
       "2001   24335585.0  20886586.0  22292885.0  19407746.0  20434869.0  23710239.0   \n",
       "\n",
       "Month        July      August   September     October    November    December  \n",
       "Year                                                                           \n",
       "1998   24449999.0  24685281.0  21446221.0  19094647.0  19145916.0  21333067.0  \n",
       "1999   27487675.0  24908011.0  20981847.0  19648508.0  19600795.0  22271506.0  \n",
       "2000   23660398.0  24498907.0  21368483.0  20156640.0  20720606.0  24582137.0  \n",
       "2001   24317498.0  27128576.0  20971032.0  20318878.0  19585025.0  21964888.0  "
      ]
     },
     "execution_count": 17,
     "metadata": {},
     "output_type": "execute_result"
    }
   ],
   "source": [
    "heatmap_data = daily_data.copy()\n",
    "\n",
    "heatmap_data['Month'] = daily_data.index.month_name()\n",
    "\n",
    "heatmap_data['Year'] =  heatmap_data.index.year\n",
    "heatmap_data = heatmap_data.groupby(['Year', 'Month']).sum()\n",
    "\n",
    "heatmap_data = heatmap_data.reset_index()\n",
    "\n",
    "heatmap_data = heatmap_data[heatmap_data['Year'] != 2002]\n",
    "\n",
    "heatmap_data = heatmap_data.pivot(index='Year', columns='Month', values='PJM_Load_MW')\n",
    "\n",
    "heatmap_data = heatmap_data[['January', 'February', 'March', 'April', 'May', 'June', 'July', 'August', 'September', 'October', 'November', 'December']]\n",
    "\n",
    "heatmap_data.head(10)"
   ]
  },
  {
   "cell_type": "code",
   "execution_count": 18,
   "metadata": {
    "execution": {
     "iopub.execute_input": "2021-01-27T11:55:48.837452Z",
     "iopub.status.busy": "2021-01-27T11:55:48.836714Z",
     "iopub.status.idle": "2021-01-27T11:55:49.069308Z",
     "shell.execute_reply": "2021-01-27T11:55:49.069795Z"
    },
    "papermill": {
     "duration": 0.316642,
     "end_time": "2021-01-27T11:55:49.069985",
     "exception": false,
     "start_time": "2021-01-27T11:55:48.753343",
     "status": "completed"
    },
    "tags": []
   },
   "outputs": [
    {
     "data": {
      "text/plain": [
       "Text(0.5, 1.0, 'Heatmap - by Day of Month')"
      ]
     },
     "execution_count": 18,
     "metadata": {},
     "output_type": "execute_result"
    },
    {
     "data": {
      "image/png": "[encoded data removed]",
      "text/plain": [
       "<Figure size 432x288 with 2 Axes>"
      ]
     },
     "metadata": {
      "needs_background": "light"
     },
     "output_type": "display_data"
    }
   ],
   "source": [
    "sns.heatmap(heatmap_data, linewidths=.5, cmap='YlOrRd', cbar=True, cbar_kws={\"format\": '%1.0f MWh'}).set_title('Heatmap - by Day of Month')"
   ]
  },
  {
   "cell_type": "markdown",
   "metadata": {
    "papermill": {
     "duration": 0.0695,
     "end_time": "2021-01-27T11:55:49.208213",
     "exception": false,
     "start_time": "2021-01-27T11:55:49.138713",
     "status": "completed"
    },
    "tags": []
   },
   "source": [
    "Now let us start with building our models and testing which models is the best.\n",
    "\n",
    "Models that we are testing:\n",
    "1. XGBoost\n",
    "2. RNN\n",
    "3. LSTM"
   ]
  },
  {
   "cell_type": "markdown",
   "metadata": {
    "papermill": {
     "duration": 0.068544,
     "end_time": "2021-01-27T11:55:49.346425",
     "exception": false,
     "start_time": "2021-01-27T11:55:49.277881",
     "status": "completed"
    },
    "tags": []
   },
   "source": [
    "Şimdi de modeller oluşturup test ederek en iyisini bulalım.\n"
   ]
  },
  {
   "cell_type": "markdown",
   "metadata": {
    "papermill": {
     "duration": 0.069262,
     "end_time": "2021-01-27T11:55:49.485594",
     "exception": false,
     "start_time": "2021-01-27T11:55:49.416332",
     "status": "completed"
    },
    "tags": []
   },
   "source": [
    "Kullanılan modeller;\n",
    "\n",
    "1. XGBoost\n",
    "2. RNN\n",
    "3. LSTM"
   ]
  },
  {
   "cell_type": "markdown",
   "metadata": {
    "papermill": {
     "duration": 0.068498,
     "end_time": "2021-01-27T11:55:49.623275",
     "exception": false,
     "start_time": "2021-01-27T11:55:49.554777",
     "status": "completed"
    },
    "tags": []
   },
   "source": [
    "# **XGBoost**"
   ]
  },
  {
   "cell_type": "markdown",
   "metadata": {
    "papermill": {
     "duration": 0.069056,
     "end_time": "2021-01-27T11:55:49.761685",
     "exception": false,
     "start_time": "2021-01-27T11:55:49.692629",
     "status": "completed"
    },
    "tags": []
   },
   "source": [
    "XGBOOST için normalleştirme gerekli değildir. \n",
    "\n",
    "Çünkü; Karar Ağaçları, girdilerinin normalleştirilmesini gerektirmez; ve XGBoost, esasen Karar Ağaçlarından oluşan bir topluluk algoritması olduğundan, girişler için normalleştirme de gerektirmez."
   ]
  },
  {
   "cell_type": "markdown",
   "metadata": {
    "papermill": {
     "duration": 0.068983,
     "end_time": "2021-01-27T11:55:49.900389",
     "exception": false,
     "start_time": "2021-01-27T11:55:49.831406",
     "status": "completed"
    },
    "tags": []
   },
   "source": [
    "**Eğitim ve Test**"
   ]
  },
  {
   "cell_type": "code",
   "execution_count": 19,
   "metadata": {
    "execution": {
     "iopub.execute_input": "2021-01-27T11:55:50.043389Z",
     "iopub.status.busy": "2021-01-27T11:55:50.042341Z",
     "iopub.status.idle": "2021-01-27T11:55:50.050741Z",
     "shell.execute_reply": "2021-01-27T11:55:50.051295Z"
    },
    "papermill": {
     "duration": 0.0818,
     "end_time": "2021-01-27T11:55:50.051454",
     "exception": false,
     "start_time": "2021-01-27T11:55:49.969654",
     "status": "completed"
    },
    "tags": []
   },
   "outputs": [],
   "source": [
    "split_date = '31-Dec-2000'\n",
    "df_train = df.loc[df.index <= split_date].copy() \n",
    "df_test = df.loc[df.index > split_date].copy() "
   ]
  },
  {
   "cell_type": "code",
   "execution_count": 20,
   "metadata": {
    "execution": {
     "iopub.execute_input": "2021-01-27T11:55:50.195435Z",
     "iopub.status.busy": "2021-01-27T11:55:50.194693Z",
     "iopub.status.idle": "2021-01-27T11:55:50.198092Z",
     "shell.execute_reply": "2021-01-27T11:55:50.198692Z"
    },
    "papermill": {
     "duration": 0.078505,
     "end_time": "2021-01-27T11:55:50.198923",
     "exception": false,
     "start_time": "2021-01-27T11:55:50.120418",
     "status": "completed"
    },
    "tags": []
   },
   "outputs": [
    {
     "name": "stdout",
     "output_type": "stream",
     "text": [
      "(32896, 1)\n",
      "(24114, 1)\n",
      "(8782, 1)\n"
     ]
    }
   ],
   "source": [
    "print(df.shape)\n",
    "print(df_train.shape)\n",
    "print(df_test.shape)\n"
   ]
  },
  {
   "cell_type": "code",
   "execution_count": 21,
   "metadata": {
    "execution": {
     "iopub.execute_input": "2021-01-27T11:55:50.393348Z",
     "iopub.status.busy": "2021-01-27T11:55:50.392589Z",
     "iopub.status.idle": "2021-01-27T11:55:51.022358Z",
     "shell.execute_reply": "2021-01-27T11:55:51.022923Z"
    },
    "papermill": {
     "duration": 0.754258,
     "end_time": "2021-01-27T11:55:51.023077",
     "exception": false,
     "start_time": "2021-01-27T11:55:50.268819",
     "status": "completed"
    },
    "tags": []
   },
   "outputs": [
    {
     "data": {
      "image/png": "[encoded data removed]",
      "text/plain": [
       "<Figure size 1080x360 with 1 Axes>"
      ]
     },
     "metadata": {
      "needs_background": "light"
     },
     "output_type": "display_data"
    }
   ],
   "source": [
    "_ = df_test \\\n",
    "    .rename(columns={'PJM_Load_MW': 'TEST SET'}) \\\n",
    "    .join(df_train.rename(columns={'PJM_Load_MW': 'TRAINING SET'}), how='outer') \\\n",
    "    .plot(figsize=(15,5), title='PJM_Load_MW', style='.')"
   ]
  },
  {
   "cell_type": "markdown",
   "metadata": {
    "papermill": {
     "duration": 0.075491,
     "end_time": "2021-01-27T11:55:51.172180",
     "exception": false,
     "start_time": "2021-01-27T11:55:51.096689",
     "status": "completed"
    },
    "tags": []
   },
   "source": [
    "Bazı zaman serisi özellikleri oluşturmamız lazım."
   ]
  },
  {
   "cell_type": "code",
   "execution_count": 22,
   "metadata": {
    "execution": {
     "iopub.execute_input": "2021-01-27T11:55:51.322186Z",
     "iopub.status.busy": "2021-01-27T11:55:51.321181Z",
     "iopub.status.idle": "2021-01-27T11:55:51.331390Z",
     "shell.execute_reply": "2021-01-27T11:55:51.331878Z"
    },
    "papermill": {
     "duration": 0.086305,
     "end_time": "2021-01-27T11:55:51.332058",
     "exception": false,
     "start_time": "2021-01-27T11:55:51.245753",
     "status": "completed"
    },
    "tags": []
   },
   "outputs": [],
   "source": [
    "def create_features(df, label=None):\n",
    "    \n",
    "    df['date'] = df.index\n",
    "    df['hour'] = df['date'].dt.hour\n",
    "    df['dayofweek'] = df['date'].dt.dayofweek\n",
    "    df['quarter'] = df['date'].dt.quarter\n",
    "    df['month'] = df['date'].dt.month\n",
    "    df['year'] = df['date'].dt.year\n",
    "    df['dayofyear'] = df['date'].dt.dayofyear\n",
    "    df['dayofmonth'] = df['date'].dt.day\n",
    "    df['weekofyear'] = df['date'].dt.weekofyear\n",
    "    \n",
    "    X = df[['hour','dayofweek','quarter','month','year',\n",
    "           'dayofyear','dayofmonth','weekofyear']]\n",
    "    if label:\n",
    "        y = df[label]\n",
    "        return X, y\n",
    "    return X"
   ]
  },
  {
   "cell_type": "code",
   "execution_count": 23,
   "metadata": {
    "execution": {
     "iopub.execute_input": "2021-01-27T11:55:51.484673Z",
     "iopub.status.busy": "2021-01-27T11:55:51.483794Z",
     "iopub.status.idle": "2021-01-27T11:55:51.536976Z",
     "shell.execute_reply": "2021-01-27T11:55:51.536265Z"
    },
    "papermill": {
     "duration": 0.132566,
     "end_time": "2021-01-27T11:55:51.537098",
     "exception": false,
     "start_time": "2021-01-27T11:55:51.404532",
     "status": "completed"
    },
    "tags": []
   },
   "outputs": [],
   "source": [
    "X_train, y_train = create_features(df_train, label='PJM_Load_MW') \n",
    "X_test, y_test = create_features(df_test, label='PJM_Load_MW')"
   ]
  },
  {
   "cell_type": "code",
   "execution_count": 24,
   "metadata": {
    "execution": {
     "iopub.execute_input": "2021-01-27T11:55:51.703348Z",
     "iopub.status.busy": "2021-01-27T11:55:51.702627Z",
     "iopub.status.idle": "2021-01-27T11:55:51.707970Z",
     "shell.execute_reply": "2021-01-27T11:55:51.707226Z"
    },
    "papermill": {
     "duration": 0.095113,
     "end_time": "2021-01-27T11:55:51.708094",
     "exception": false,
     "start_time": "2021-01-27T11:55:51.612981",
     "status": "completed"
    },
    "tags": []
   },
   "outputs": [
    {
     "data": {
      "text/html": [
       "<div>\n",
       "<style scoped>\n",
       "    .dataframe tbody tr th:only-of-type {\n",
       "        vertical-align: middle;\n",
       "    }\n",
       "\n",
       "    .dataframe tbody tr th {\n",
       "        vertical-align: top;\n",
       "    }\n",
       "\n",
       "    .dataframe thead th {\n",
       "        text-align: right;\n",
       "    }\n",
       "</style>\n",
       "<table border=\"1\" class=\"dataframe\">\n",
       "  <thead>\n",
       "    <tr style=\"text-align: right;\">\n",
       "      <th></th>\n",
       "      <th>hour</th>\n",
       "      <th>dayofweek</th>\n",
       "      <th>quarter</th>\n",
       "      <th>month</th>\n",
       "      <th>year</th>\n",
       "      <th>dayofyear</th>\n",
       "      <th>dayofmonth</th>\n",
       "      <th>weekofyear</th>\n",
       "    </tr>\n",
       "    <tr>\n",
       "      <th>Datetime</th>\n",
       "      <th></th>\n",
       "      <th></th>\n",
       "      <th></th>\n",
       "      <th></th>\n",
       "      <th></th>\n",
       "      <th></th>\n",
       "      <th></th>\n",
       "      <th></th>\n",
       "    </tr>\n",
       "  </thead>\n",
       "  <tbody>\n",
       "    <tr>\n",
       "      <th>1998-12-31 01:00:00</th>\n",
       "      <td>1</td>\n",
       "      <td>3</td>\n",
       "      <td>4</td>\n",
       "      <td>12</td>\n",
       "      <td>1998</td>\n",
       "      <td>365</td>\n",
       "      <td>31</td>\n",
       "      <td>53</td>\n",
       "    </tr>\n",
       "    <tr>\n",
       "      <th>1998-12-31 02:00:00</th>\n",
       "      <td>2</td>\n",
       "      <td>3</td>\n",
       "      <td>4</td>\n",
       "      <td>12</td>\n",
       "      <td>1998</td>\n",
       "      <td>365</td>\n",
       "      <td>31</td>\n",
       "      <td>53</td>\n",
       "    </tr>\n",
       "    <tr>\n",
       "      <th>1998-12-31 03:00:00</th>\n",
       "      <td>3</td>\n",
       "      <td>3</td>\n",
       "      <td>4</td>\n",
       "      <td>12</td>\n",
       "      <td>1998</td>\n",
       "      <td>365</td>\n",
       "      <td>31</td>\n",
       "      <td>53</td>\n",
       "    </tr>\n",
       "    <tr>\n",
       "      <th>1998-12-31 04:00:00</th>\n",
       "      <td>4</td>\n",
       "      <td>3</td>\n",
       "      <td>4</td>\n",
       "      <td>12</td>\n",
       "      <td>1998</td>\n",
       "      <td>365</td>\n",
       "      <td>31</td>\n",
       "      <td>53</td>\n",
       "    </tr>\n",
       "    <tr>\n",
       "      <th>1998-12-31 05:00:00</th>\n",
       "      <td>5</td>\n",
       "      <td>3</td>\n",
       "      <td>4</td>\n",
       "      <td>12</td>\n",
       "      <td>1998</td>\n",
       "      <td>365</td>\n",
       "      <td>31</td>\n",
       "      <td>53</td>\n",
       "    </tr>\n",
       "  </tbody>\n",
       "</table>\n",
       "</div>"
      ],
      "text/plain": [
       "                     hour  dayofweek  quarter  month  year  dayofyear  \\\n",
       "Datetime                                                                \n",
       "1998-12-31 01:00:00     1          3        4     12  1998        365   \n",
       "1998-12-31 02:00:00     2          3        4     12  1998        365   \n",
       "1998-12-31 03:00:00     3          3        4     12  1998        365   \n",
       "1998-12-31 04:00:00     4          3        4     12  1998        365   \n",
       "1998-12-31 05:00:00     5          3        4     12  1998        365   \n",
       "\n",
       "                     dayofmonth  weekofyear  \n",
       "Datetime                                     \n",
       "1998-12-31 01:00:00          31          53  \n",
       "1998-12-31 02:00:00          31          53  \n",
       "1998-12-31 03:00:00          31          53  \n",
       "1998-12-31 04:00:00          31          53  \n",
       "1998-12-31 05:00:00          31          53  "
      ]
     },
     "execution_count": 24,
     "metadata": {},
     "output_type": "execute_result"
    }
   ],
   "source": [
    "X_train.head(5)"
   ]
  },
  {
   "cell_type": "code",
   "execution_count": 25,
   "metadata": {
    "execution": {
     "iopub.execute_input": "2021-01-27T11:55:51.863451Z",
     "iopub.status.busy": "2021-01-27T11:55:51.862507Z",
     "iopub.status.idle": "2021-01-27T11:55:51.866925Z",
     "shell.execute_reply": "2021-01-27T11:55:51.867423Z"
    },
    "papermill": {
     "duration": 0.086634,
     "end_time": "2021-01-27T11:55:51.867579",
     "exception": false,
     "start_time": "2021-01-27T11:55:51.780945",
     "status": "completed"
    },
    "tags": []
   },
   "outputs": [
    {
     "data": {
      "text/plain": [
       "Datetime\n",
       "1998-12-31 01:00:00    29309.0\n",
       "1998-12-31 02:00:00    28236.0\n",
       "1998-12-31 03:00:00    27692.0\n",
       "1998-12-31 04:00:00    27596.0\n",
       "1998-12-31 05:00:00    27888.0\n",
       "Name: PJM_Load_MW, dtype: float64"
      ]
     },
     "execution_count": 25,
     "metadata": {},
     "output_type": "execute_result"
    }
   ],
   "source": [
    "y_train.head(5)"
   ]
  },
  {
   "cell_type": "markdown",
   "metadata": {
    "papermill": {
     "duration": 0.073757,
     "end_time": "2021-01-27T11:55:52.016054",
     "exception": false,
     "start_time": "2021-01-27T11:55:51.942297",
     "status": "completed"
    },
    "tags": []
   },
   "source": [
    "XGBoost modeli oluşturma"
   ]
  },
  {
   "cell_type": "code",
   "execution_count": 26,
   "metadata": {
    "execution": {
     "iopub.execute_input": "2021-01-27T11:55:52.172213Z",
     "iopub.status.busy": "2021-01-27T11:55:52.171467Z",
     "iopub.status.idle": "2021-01-27T11:55:52.830822Z",
     "shell.execute_reply": "2021-01-27T11:55:52.831858Z"
    },
    "papermill": {
     "duration": 0.741952,
     "end_time": "2021-01-27T11:55:52.832071",
     "exception": false,
     "start_time": "2021-01-27T11:55:52.090119",
     "status": "completed"
    },
    "tags": []
   },
   "outputs": [],
   "source": [
    "reg = xgb.XGBRegressor(n_estimators=1000)\n",
    "reg.fit(X_train, y_train,\n",
    "        eval_set=[(X_train, y_train), (X_test, y_test)],\n",
    "        early_stopping_rounds=50,\n",
    "       verbose=False) \n",
    "\n",
    "output = reg.predict(X_test)"
   ]
  },
  {
   "cell_type": "code",
   "execution_count": 27,
   "metadata": {
    "execution": {
     "iopub.execute_input": "2021-01-27T11:55:53.041812Z",
     "iopub.status.busy": "2021-01-27T11:55:53.041076Z",
     "iopub.status.idle": "2021-01-27T11:55:53.271840Z",
     "shell.execute_reply": "2021-01-27T11:55:53.272418Z"
    },
    "papermill": {
     "duration": 0.340037,
     "end_time": "2021-01-27T11:55:53.272591",
     "exception": false,
     "start_time": "2021-01-27T11:55:52.932554",
     "status": "completed"
    },
    "tags": []
   },
   "outputs": [
    {
     "data": {
      "image/png": "[encoded data removed]",
      "text/plain": [
       "<Figure size 432x288 with 1 Axes>"
      ]
     },
     "metadata": {
      "needs_background": "light"
     },
     "output_type": "display_data"
    }
   ],
   "source": [
    "features = [\"date\", \"hour\", \"dayofweek\", \"quarter\", \"month\", \"year\", \"dayofyear\", \"dayofmonth\", \"weekofyear\"]\n",
    "\n",
    "importances = reg.feature_importances_\n",
    "\n",
    "sorted_index = np.argsort(importances)[::-1]\n",
    "sorted_index_top = sorted_index[:10]\n",
    "x = range(len(sorted_index_top))\n",
    " \n",
    "labels = np.array(features)[sorted_index_top]\n",
    "plt.bar(x, importances[sorted_index_top], tick_label=labels)\n",
    "plt.title(\"Feature importance analyisis\")\n",
    "plt.xticks(rotation=45)\n",
    "plt.show()"
   ]
  },
  {
   "cell_type": "markdown",
   "metadata": {
    "papermill": {
     "duration": 0.081227,
     "end_time": "2021-01-27T11:55:53.429336",
     "exception": false,
     "start_time": "2021-01-27T11:55:53.348109",
     "status": "completed"
    },
    "tags": []
   },
   "source": [
    "Modeli kullanarak tahminde bulunalım."
   ]
  },
  {
   "cell_type": "code",
   "execution_count": 28,
   "metadata": {
    "execution": {
     "iopub.execute_input": "2021-01-27T11:55:53.583657Z",
     "iopub.status.busy": "2021-01-27T11:55:53.582572Z",
     "iopub.status.idle": "2021-01-27T11:55:53.599235Z",
     "shell.execute_reply": "2021-01-27T11:55:53.599948Z"
    },
    "papermill": {
     "duration": 0.095915,
     "end_time": "2021-01-27T11:55:53.600153",
     "exception": false,
     "start_time": "2021-01-27T11:55:53.504238",
     "status": "completed"
    },
    "tags": []
   },
   "outputs": [],
   "source": [
    "df_test['MW_Prediction'] =reg.predict(X_test)\n",
    " \n",
    "PJM_all = pd.concat([df_test, df_train], sort=False)"
   ]
  },
  {
   "cell_type": "code",
   "execution_count": 29,
   "metadata": {
    "execution": {
     "iopub.execute_input": "2021-01-27T11:55:53.808770Z",
     "iopub.status.busy": "2021-01-27T11:55:53.808038Z",
     "iopub.status.idle": "2021-01-27T11:55:54.264916Z",
     "shell.execute_reply": "2021-01-27T11:55:54.264361Z"
    },
    "papermill": {
     "duration": 0.565715,
     "end_time": "2021-01-27T11:55:54.265031",
     "exception": false,
     "start_time": "2021-01-27T11:55:53.699316",
     "status": "completed"
    },
    "tags": []
   },
   "outputs": [
    {
     "data": {
      "image/png": "[encoded data removed]",
      "text/plain": [
       "<Figure size 1080x360 with 1 Axes>"
      ]
     },
     "metadata": {
      "needs_background": "light"
     },
     "output_type": "display_data"
    }
   ],
   "source": [
    "_ = PJM_all[['PJM_Load_MW','MW_Prediction']].plot(figsize=(15, 5))"
   ]
  },
  {
   "cell_type": "markdown",
   "metadata": {
    "papermill": {
     "duration": 0.077442,
     "end_time": "2021-01-27T11:55:54.420927",
     "exception": false,
     "start_time": "2021-01-27T11:55:54.343485",
     "status": "completed"
    },
    "tags": []
   },
   "source": [
    "Hata Matrisi Kullanılan farklı hata matrisi türleri:\n",
    "\n",
    "* R^2 (korelasyon puanı)\n",
    "* Ortalama Kare Hatası\n",
    "* Ortalama Mutlak Hata\n",
    "\n",
    "XGBoost için sonuçlar:\n",
    "\n",
    "* R ^ 2 XGBoost modelinin puanı = 0,7400406595803339\n",
    "* Ortalama Kare Hatası = 8943038.068857703\n",
    "* Ortalama Mutlak Hata = 2169.8273519343543\n",
    "\n"
   ]
  },
  {
   "cell_type": "code",
   "execution_count": 30,
   "metadata": {
    "execution": {
     "iopub.execute_input": "2021-01-27T11:55:54.580864Z",
     "iopub.status.busy": "2021-01-27T11:55:54.580130Z",
     "iopub.status.idle": "2021-01-27T11:55:54.586007Z",
     "shell.execute_reply": "2021-01-27T11:55:54.585323Z"
    },
    "papermill": {
     "duration": 0.088121,
     "end_time": "2021-01-27T11:55:54.586137",
     "exception": false,
     "start_time": "2021-01-27T11:55:54.498016",
     "status": "completed"
    },
    "tags": []
   },
   "outputs": [],
   "source": [
    "from sklearn.metrics import r2_score"
   ]
  },
  {
   "cell_type": "code",
   "execution_count": 31,
   "metadata": {
    "execution": {
     "iopub.execute_input": "2021-01-27T11:55:54.747145Z",
     "iopub.status.busy": "2021-01-27T11:55:54.746444Z",
     "iopub.status.idle": "2021-01-27T11:55:54.751560Z",
     "shell.execute_reply": "2021-01-27T11:55:54.752253Z"
    },
    "papermill": {
     "duration": 0.089202,
     "end_time": "2021-01-27T11:55:54.752453",
     "exception": false,
     "start_time": "2021-01-27T11:55:54.663251",
     "status": "completed"
    },
    "tags": []
   },
   "outputs": [
    {
     "name": "stdout",
     "output_type": "stream",
     "text": [
      "R^2 Score of XGBoost model =  0.7400406595803339\n"
     ]
    }
   ],
   "source": [
    "lstm_score = r2_score(y_test, output)\n",
    "print(\"R^2 Score of XGBoost model = \",lstm_score)"
   ]
  },
  {
   "cell_type": "code",
   "execution_count": 32,
   "metadata": {
    "execution": {
     "iopub.execute_input": "2021-01-27T11:55:54.918200Z",
     "iopub.status.busy": "2021-01-27T11:55:54.917221Z",
     "iopub.status.idle": "2021-01-27T11:55:54.921413Z",
     "shell.execute_reply": "2021-01-27T11:55:54.920754Z"
    },
    "papermill": {
     "duration": 0.090788,
     "end_time": "2021-01-27T11:55:54.921523",
     "exception": false,
     "start_time": "2021-01-27T11:55:54.830735",
     "status": "completed"
    },
    "tags": []
   },
   "outputs": [
    {
     "name": "stdout",
     "output_type": "stream",
     "text": [
      "Mean_squared_error = 8943038.068857703\n"
     ]
    }
   ],
   "source": [
    "mean_squared_error = mean_squared_error(y_true=df_test['PJM_Load_MW'],\n",
    "                   y_pred=df_test['MW_Prediction'])\n",
    "print(\"Mean_squared_error =\", mean_squared_error)"
   ]
  },
  {
   "cell_type": "code",
   "execution_count": 33,
   "metadata": {
    "execution": {
     "iopub.execute_input": "2021-01-27T11:55:55.085354Z",
     "iopub.status.busy": "2021-01-27T11:55:55.084596Z",
     "iopub.status.idle": "2021-01-27T11:55:55.088224Z",
     "shell.execute_reply": "2021-01-27T11:55:55.087543Z"
    },
    "papermill": {
     "duration": 0.088895,
     "end_time": "2021-01-27T11:55:55.088339",
     "exception": false,
     "start_time": "2021-01-27T11:55:54.999444",
     "status": "completed"
    },
    "tags": []
   },
   "outputs": [
    {
     "name": "stdout",
     "output_type": "stream",
     "text": [
      "Mean_absolute_error = 2169.8273519343543\n"
     ]
    }
   ],
   "source": [
    "mean_absolute_error = mean_absolute_error(y_true=df_test['PJM_Load_MW'],\n",
    "                   y_pred=df_test['MW_Prediction'])\n",
    "print(\"Mean_absolute_error =\", mean_absolute_error)"
   ]
  },
  {
   "cell_type": "code",
   "execution_count": 34,
   "metadata": {
    "execution": {
     "iopub.execute_input": "2021-01-27T11:55:55.254863Z",
     "iopub.status.busy": "2021-01-27T11:55:55.254038Z",
     "iopub.status.idle": "2021-01-27T11:55:55.258546Z",
     "shell.execute_reply": "2021-01-27T11:55:55.259021Z"
    },
    "papermill": {
     "duration": 0.092092,
     "end_time": "2021-01-27T11:55:55.259171",
     "exception": false,
     "start_time": "2021-01-27T11:55:55.167079",
     "status": "completed"
    },
    "tags": []
   },
   "outputs": [
    {
     "name": "stdout",
     "output_type": "stream",
     "text": [
      "Mean_absolute_error = 6.948508186270928 %\n"
     ]
    }
   ],
   "source": [
    "def mean_absolute_percentage_error(y_true, y_pred): \n",
    "    \"\"\"Calculates MAPE given y_true and y_pred\"\"\"\n",
    "    y_true, y_pred = np.array(y_true), np.array(y_pred)\n",
    "    return np.mean(np.abs((y_true - y_pred) / y_true)) * 100\n",
    "\n",
    "mean_absolute_percentage_error = mean_absolute_percentage_error(y_true=df_test['PJM_Load_MW'],\n",
    "                   y_pred=df_test['MW_Prediction'])\n",
    "\n",
    "print(\"Mean_absolute_error = \" + str(mean_absolute_percentage_error) + \" %\")\n"
   ]
  },
  {
   "cell_type": "markdown",
   "metadata": {
    "papermill": {
     "duration": 0.081329,
     "end_time": "2021-01-27T11:55:55.420820",
     "exception": false,
     "start_time": "2021-01-27T11:55:55.339491",
     "status": "completed"
    },
    "tags": []
   },
   "source": [
    "# **XGBoost için başka bir yöntem**\n",
    "\n",
    "Özellik mühendisliği"
   ]
  },
  {
   "cell_type": "code",
   "execution_count": 35,
   "metadata": {
    "execution": {
     "iopub.execute_input": "2021-01-27T11:55:55.598469Z",
     "iopub.status.busy": "2021-01-27T11:55:55.597507Z",
     "iopub.status.idle": "2021-01-27T11:55:55.600517Z",
     "shell.execute_reply": "2021-01-27T11:55:55.599998Z"
    },
    "papermill": {
     "duration": 0.098138,
     "end_time": "2021-01-27T11:55:55.600636",
     "exception": false,
     "start_time": "2021-01-27T11:55:55.502498",
     "status": "completed"
    },
    "tags": []
   },
   "outputs": [],
   "source": [
    "def preprocess_xgb_data(df, lag_start=1, lag_end=365):\n",
    "    \n",
    "    for i in range(lag_start,lag_end):\n",
    "        df[f'PJM_Load_MW {i}'] = df.shift(periods=i, freq='D')['PJM_Load_MW']\n",
    "\n",
    "    df.reset_index(inplace=True)\n",
    "\n",
    "    df['date_epoch'] = pd.to_numeric(df['Datetime']) \n",
    "    df['hour'] = df['Datetime'].dt.hour\n",
    "    df['dayofweek'] = df['Datetime'].dt.dayofweek\n",
    "    df['dayofmonth'] = df['Datetime'].dt.day\n",
    "    df['dayofyear'] = df['Datetime'].dt.dayofyear\n",
    "    df['weekofyear'] = df['Datetime'].dt.weekofyear\n",
    "    df['quarter'] = df['Datetime'].dt.quarter\n",
    "    df['month'] = df['Datetime'].dt.month\n",
    "    df['year'] = df['Datetime'].dt.year\n",
    "    \n",
    "    x = df.drop(columns=['Datetime', 'PJM_Load_MW']) \n",
    "    y = df['PJM_Load_MW'] \n",
    "    \n",
    "    return x, y"
   ]
  },
  {
   "cell_type": "code",
   "execution_count": 36,
   "metadata": {
    "execution": {
     "iopub.execute_input": "2021-01-27T11:55:55.763246Z",
     "iopub.status.busy": "2021-01-27T11:55:55.762502Z",
     "iopub.status.idle": "2021-01-27T11:55:55.769299Z",
     "shell.execute_reply": "2021-01-27T11:55:55.769829Z"
    },
    "papermill": {
     "duration": 0.089436,
     "end_time": "2021-01-27T11:55:55.769991",
     "exception": false,
     "start_time": "2021-01-27T11:55:55.680555",
     "status": "completed"
    },
    "tags": []
   },
   "outputs": [],
   "source": [
    "cutoff = '2000-12-31'\n",
    "\n",
    "daily_data.sort_index()\n",
    "\n",
    "train = daily_data[:cutoff]\n",
    "test = daily_data[cutoff:]"
   ]
  },
  {
   "cell_type": "code",
   "execution_count": 37,
   "metadata": {
    "execution": {
     "iopub.execute_input": "2021-01-27T11:55:55.935101Z",
     "iopub.status.busy": "2021-01-27T11:55:55.934411Z",
     "iopub.status.idle": "2021-01-27T11:55:57.270854Z",
     "shell.execute_reply": "2021-01-27T11:55:57.270129Z"
    },
    "papermill": {
     "duration": 1.419817,
     "end_time": "2021-01-27T11:55:57.271005",
     "exception": false,
     "start_time": "2021-01-27T11:55:55.851188",
     "status": "completed"
    },
    "tags": []
   },
   "outputs": [
    {
     "data": {
      "text/html": [
       "<div>\n",
       "<style scoped>\n",
       "    .dataframe tbody tr th:only-of-type {\n",
       "        vertical-align: middle;\n",
       "    }\n",
       "\n",
       "    .dataframe tbody tr th {\n",
       "        vertical-align: top;\n",
       "    }\n",
       "\n",
       "    .dataframe thead th {\n",
       "        text-align: right;\n",
       "    }\n",
       "</style>\n",
       "<table border=\"1\" class=\"dataframe\">\n",
       "  <thead>\n",
       "    <tr style=\"text-align: right;\">\n",
       "      <th></th>\n",
       "      <th>PJM_Load_MW 1</th>\n",
       "      <th>PJM_Load_MW 2</th>\n",
       "      <th>PJM_Load_MW 3</th>\n",
       "      <th>PJM_Load_MW 4</th>\n",
       "      <th>PJM_Load_MW 5</th>\n",
       "      <th>PJM_Load_MW 6</th>\n",
       "      <th>PJM_Load_MW 7</th>\n",
       "      <th>PJM_Load_MW 8</th>\n",
       "      <th>PJM_Load_MW 9</th>\n",
       "      <th>PJM_Load_MW 10</th>\n",
       "      <th>...</th>\n",
       "      <th>PJM_Load_MW 364</th>\n",
       "      <th>date_epoch</th>\n",
       "      <th>hour</th>\n",
       "      <th>dayofweek</th>\n",
       "      <th>dayofmonth</th>\n",
       "      <th>dayofyear</th>\n",
       "      <th>weekofyear</th>\n",
       "      <th>quarter</th>\n",
       "      <th>month</th>\n",
       "      <th>year</th>\n",
       "    </tr>\n",
       "  </thead>\n",
       "  <tbody>\n",
       "    <tr>\n",
       "      <th>0</th>\n",
       "      <td>NaN</td>\n",
       "      <td>NaN</td>\n",
       "      <td>NaN</td>\n",
       "      <td>NaN</td>\n",
       "      <td>NaN</td>\n",
       "      <td>NaN</td>\n",
       "      <td>NaN</td>\n",
       "      <td>NaN</td>\n",
       "      <td>NaN</td>\n",
       "      <td>NaN</td>\n",
       "      <td>...</td>\n",
       "      <td>NaN</td>\n",
       "      <td>891475200000000000</td>\n",
       "      <td>0</td>\n",
       "      <td>3</td>\n",
       "      <td>2</td>\n",
       "      <td>92</td>\n",
       "      <td>14</td>\n",
       "      <td>2</td>\n",
       "      <td>4</td>\n",
       "      <td>1998</td>\n",
       "    </tr>\n",
       "    <tr>\n",
       "      <th>1</th>\n",
       "      <td>638539.0</td>\n",
       "      <td>NaN</td>\n",
       "      <td>NaN</td>\n",
       "      <td>NaN</td>\n",
       "      <td>NaN</td>\n",
       "      <td>NaN</td>\n",
       "      <td>NaN</td>\n",
       "      <td>NaN</td>\n",
       "      <td>NaN</td>\n",
       "      <td>NaN</td>\n",
       "      <td>...</td>\n",
       "      <td>NaN</td>\n",
       "      <td>891561600000000000</td>\n",
       "      <td>0</td>\n",
       "      <td>4</td>\n",
       "      <td>3</td>\n",
       "      <td>93</td>\n",
       "      <td>14</td>\n",
       "      <td>2</td>\n",
       "      <td>4</td>\n",
       "      <td>1998</td>\n",
       "    </tr>\n",
       "    <tr>\n",
       "      <th>2</th>\n",
       "      <td>616136.0</td>\n",
       "      <td>638539.0</td>\n",
       "      <td>NaN</td>\n",
       "      <td>NaN</td>\n",
       "      <td>NaN</td>\n",
       "      <td>NaN</td>\n",
       "      <td>NaN</td>\n",
       "      <td>NaN</td>\n",
       "      <td>NaN</td>\n",
       "      <td>NaN</td>\n",
       "      <td>...</td>\n",
       "      <td>NaN</td>\n",
       "      <td>891648000000000000</td>\n",
       "      <td>0</td>\n",
       "      <td>5</td>\n",
       "      <td>4</td>\n",
       "      <td>94</td>\n",
       "      <td>14</td>\n",
       "      <td>2</td>\n",
       "      <td>4</td>\n",
       "      <td>1998</td>\n",
       "    </tr>\n",
       "    <tr>\n",
       "      <th>3</th>\n",
       "      <td>587690.0</td>\n",
       "      <td>616136.0</td>\n",
       "      <td>638539.0</td>\n",
       "      <td>NaN</td>\n",
       "      <td>NaN</td>\n",
       "      <td>NaN</td>\n",
       "      <td>NaN</td>\n",
       "      <td>NaN</td>\n",
       "      <td>NaN</td>\n",
       "      <td>NaN</td>\n",
       "      <td>...</td>\n",
       "      <td>NaN</td>\n",
       "      <td>891734400000000000</td>\n",
       "      <td>0</td>\n",
       "      <td>6</td>\n",
       "      <td>5</td>\n",
       "      <td>95</td>\n",
       "      <td>14</td>\n",
       "      <td>2</td>\n",
       "      <td>4</td>\n",
       "      <td>1998</td>\n",
       "    </tr>\n",
       "    <tr>\n",
       "      <th>4</th>\n",
       "      <td>540214.0</td>\n",
       "      <td>587690.0</td>\n",
       "      <td>616136.0</td>\n",
       "      <td>638539.0</td>\n",
       "      <td>NaN</td>\n",
       "      <td>NaN</td>\n",
       "      <td>NaN</td>\n",
       "      <td>NaN</td>\n",
       "      <td>NaN</td>\n",
       "      <td>NaN</td>\n",
       "      <td>...</td>\n",
       "      <td>NaN</td>\n",
       "      <td>891820800000000000</td>\n",
       "      <td>0</td>\n",
       "      <td>0</td>\n",
       "      <td>6</td>\n",
       "      <td>96</td>\n",
       "      <td>15</td>\n",
       "      <td>2</td>\n",
       "      <td>4</td>\n",
       "      <td>1998</td>\n",
       "    </tr>\n",
       "    <tr>\n",
       "      <th>5</th>\n",
       "      <td>640312.0</td>\n",
       "      <td>540214.0</td>\n",
       "      <td>587690.0</td>\n",
       "      <td>616136.0</td>\n",
       "      <td>638539.0</td>\n",
       "      <td>NaN</td>\n",
       "      <td>NaN</td>\n",
       "      <td>NaN</td>\n",
       "      <td>NaN</td>\n",
       "      <td>NaN</td>\n",
       "      <td>...</td>\n",
       "      <td>NaN</td>\n",
       "      <td>891907200000000000</td>\n",
       "      <td>0</td>\n",
       "      <td>1</td>\n",
       "      <td>7</td>\n",
       "      <td>97</td>\n",
       "      <td>15</td>\n",
       "      <td>2</td>\n",
       "      <td>4</td>\n",
       "      <td>1998</td>\n",
       "    </tr>\n",
       "    <tr>\n",
       "      <th>6</th>\n",
       "      <td>643340.0</td>\n",
       "      <td>640312.0</td>\n",
       "      <td>540214.0</td>\n",
       "      <td>587690.0</td>\n",
       "      <td>616136.0</td>\n",
       "      <td>638539.0</td>\n",
       "      <td>NaN</td>\n",
       "      <td>NaN</td>\n",
       "      <td>NaN</td>\n",
       "      <td>NaN</td>\n",
       "      <td>...</td>\n",
       "      <td>NaN</td>\n",
       "      <td>891993600000000000</td>\n",
       "      <td>0</td>\n",
       "      <td>2</td>\n",
       "      <td>8</td>\n",
       "      <td>98</td>\n",
       "      <td>15</td>\n",
       "      <td>2</td>\n",
       "      <td>4</td>\n",
       "      <td>1998</td>\n",
       "    </tr>\n",
       "    <tr>\n",
       "      <th>7</th>\n",
       "      <td>636976.0</td>\n",
       "      <td>643340.0</td>\n",
       "      <td>640312.0</td>\n",
       "      <td>540214.0</td>\n",
       "      <td>587690.0</td>\n",
       "      <td>616136.0</td>\n",
       "      <td>638539.0</td>\n",
       "      <td>NaN</td>\n",
       "      <td>NaN</td>\n",
       "      <td>NaN</td>\n",
       "      <td>...</td>\n",
       "      <td>NaN</td>\n",
       "      <td>892080000000000000</td>\n",
       "      <td>0</td>\n",
       "      <td>3</td>\n",
       "      <td>9</td>\n",
       "      <td>99</td>\n",
       "      <td>15</td>\n",
       "      <td>2</td>\n",
       "      <td>4</td>\n",
       "      <td>1998</td>\n",
       "    </tr>\n",
       "    <tr>\n",
       "      <th>8</th>\n",
       "      <td>657606.0</td>\n",
       "      <td>636976.0</td>\n",
       "      <td>643340.0</td>\n",
       "      <td>640312.0</td>\n",
       "      <td>540214.0</td>\n",
       "      <td>587690.0</td>\n",
       "      <td>616136.0</td>\n",
       "      <td>638539.0</td>\n",
       "      <td>NaN</td>\n",
       "      <td>NaN</td>\n",
       "      <td>...</td>\n",
       "      <td>NaN</td>\n",
       "      <td>892166400000000000</td>\n",
       "      <td>0</td>\n",
       "      <td>4</td>\n",
       "      <td>10</td>\n",
       "      <td>100</td>\n",
       "      <td>15</td>\n",
       "      <td>2</td>\n",
       "      <td>4</td>\n",
       "      <td>1998</td>\n",
       "    </tr>\n",
       "    <tr>\n",
       "      <th>9</th>\n",
       "      <td>601388.0</td>\n",
       "      <td>657606.0</td>\n",
       "      <td>636976.0</td>\n",
       "      <td>643340.0</td>\n",
       "      <td>640312.0</td>\n",
       "      <td>540214.0</td>\n",
       "      <td>587690.0</td>\n",
       "      <td>616136.0</td>\n",
       "      <td>638539.0</td>\n",
       "      <td>NaN</td>\n",
       "      <td>...</td>\n",
       "      <td>NaN</td>\n",
       "      <td>892252800000000000</td>\n",
       "      <td>0</td>\n",
       "      <td>5</td>\n",
       "      <td>11</td>\n",
       "      <td>101</td>\n",
       "      <td>15</td>\n",
       "      <td>2</td>\n",
       "      <td>4</td>\n",
       "      <td>1998</td>\n",
       "    </tr>\n",
       "  </tbody>\n",
       "</table>\n",
       "<p>10 rows × 373 columns</p>\n",
       "</div>"
      ],
      "text/plain": [
       "   PJM_Load_MW 1  PJM_Load_MW 2  PJM_Load_MW 3  PJM_Load_MW 4  PJM_Load_MW 5  \\\n",
       "0            NaN            NaN            NaN            NaN            NaN   \n",
       "1       638539.0            NaN            NaN            NaN            NaN   \n",
       "2       616136.0       638539.0            NaN            NaN            NaN   \n",
       "3       587690.0       616136.0       638539.0            NaN            NaN   \n",
       "4       540214.0       587690.0       616136.0       638539.0            NaN   \n",
       "5       640312.0       540214.0       587690.0       616136.0       638539.0   \n",
       "6       643340.0       640312.0       540214.0       587690.0       616136.0   \n",
       "7       636976.0       643340.0       640312.0       540214.0       587690.0   \n",
       "8       657606.0       636976.0       643340.0       640312.0       540214.0   \n",
       "9       601388.0       657606.0       636976.0       643340.0       640312.0   \n",
       "\n",
       "   PJM_Load_MW 6  PJM_Load_MW 7  PJM_Load_MW 8  PJM_Load_MW 9  PJM_Load_MW 10  \\\n",
       "0            NaN            NaN            NaN            NaN             NaN   \n",
       "1            NaN            NaN            NaN            NaN             NaN   \n",
       "2            NaN            NaN            NaN            NaN             NaN   \n",
       "3            NaN            NaN            NaN            NaN             NaN   \n",
       "4            NaN            NaN            NaN            NaN             NaN   \n",
       "5            NaN            NaN            NaN            NaN             NaN   \n",
       "6       638539.0            NaN            NaN            NaN             NaN   \n",
       "7       616136.0       638539.0            NaN            NaN             NaN   \n",
       "8       587690.0       616136.0       638539.0            NaN             NaN   \n",
       "9       540214.0       587690.0       616136.0       638539.0             NaN   \n",
       "\n",
       "   ...  PJM_Load_MW 364          date_epoch  hour  dayofweek  dayofmonth  \\\n",
       "0  ...              NaN  891475200000000000     0          3           2   \n",
       "1  ...              NaN  891561600000000000     0          4           3   \n",
       "2  ...              NaN  891648000000000000     0          5           4   \n",
       "3  ...              NaN  891734400000000000     0          6           5   \n",
       "4  ...              NaN  891820800000000000     0          0           6   \n",
       "5  ...              NaN  891907200000000000     0          1           7   \n",
       "6  ...              NaN  891993600000000000     0          2           8   \n",
       "7  ...              NaN  892080000000000000     0          3           9   \n",
       "8  ...              NaN  892166400000000000     0          4          10   \n",
       "9  ...              NaN  892252800000000000     0          5          11   \n",
       "\n",
       "   dayofyear  weekofyear  quarter  month  year  \n",
       "0         92          14        2      4  1998  \n",
       "1         93          14        2      4  1998  \n",
       "2         94          14        2      4  1998  \n",
       "3         95          14        2      4  1998  \n",
       "4         96          15        2      4  1998  \n",
       "5         97          15        2      4  1998  \n",
       "6         98          15        2      4  1998  \n",
       "7         99          15        2      4  1998  \n",
       "8        100          15        2      4  1998  \n",
       "9        101          15        2      4  1998  \n",
       "\n",
       "[10 rows x 373 columns]"
      ]
     },
     "execution_count": 37,
     "metadata": {},
     "output_type": "execute_result"
    }
   ],
   "source": [
    "example_data = train.copy() \n",
    "\n",
    "example_x, example_y = preprocess_xgb_data(example_data)\n",
    "\n",
    "example_x.head(10)"
   ]
  },
  {
   "cell_type": "code",
   "execution_count": 38,
   "metadata": {
    "execution": {
     "iopub.execute_input": "2021-01-27T11:55:57.463652Z",
     "iopub.status.busy": "2021-01-27T11:55:57.462312Z",
     "iopub.status.idle": "2021-01-27T11:55:59.690453Z",
     "shell.execute_reply": "2021-01-27T11:55:59.689475Z"
    },
    "papermill": {
     "duration": 2.336988,
     "end_time": "2021-01-27T11:55:59.690580",
     "exception": false,
     "start_time": "2021-01-27T11:55:57.353592",
     "status": "completed"
    },
    "tags": []
   },
   "outputs": [
    {
     "data": {
      "text/html": [
       "<div>\n",
       "<style scoped>\n",
       "    .dataframe tbody tr th:only-of-type {\n",
       "        vertical-align: middle;\n",
       "    }\n",
       "\n",
       "    .dataframe tbody tr th {\n",
       "        vertical-align: top;\n",
       "    }\n",
       "\n",
       "    .dataframe thead th {\n",
       "        text-align: right;\n",
       "    }\n",
       "</style>\n",
       "<table border=\"1\" class=\"dataframe\">\n",
       "  <thead>\n",
       "    <tr style=\"text-align: right;\">\n",
       "      <th></th>\n",
       "      <th>PJM_Load_MW 1</th>\n",
       "      <th>PJM_Load_MW 2</th>\n",
       "      <th>PJM_Load_MW 3</th>\n",
       "      <th>PJM_Load_MW 4</th>\n",
       "      <th>PJM_Load_MW 5</th>\n",
       "      <th>PJM_Load_MW 6</th>\n",
       "      <th>PJM_Load_MW 7</th>\n",
       "      <th>PJM_Load_MW 8</th>\n",
       "      <th>PJM_Load_MW 9</th>\n",
       "      <th>PJM_Load_MW 10</th>\n",
       "      <th>...</th>\n",
       "      <th>PJM_Load_MW 364</th>\n",
       "      <th>date_epoch</th>\n",
       "      <th>hour</th>\n",
       "      <th>dayofweek</th>\n",
       "      <th>dayofmonth</th>\n",
       "      <th>dayofyear</th>\n",
       "      <th>weekofyear</th>\n",
       "      <th>quarter</th>\n",
       "      <th>month</th>\n",
       "      <th>year</th>\n",
       "    </tr>\n",
       "  </thead>\n",
       "  <tbody>\n",
       "    <tr>\n",
       "      <th>0</th>\n",
       "      <td>NaN</td>\n",
       "      <td>NaN</td>\n",
       "      <td>NaN</td>\n",
       "      <td>NaN</td>\n",
       "      <td>NaN</td>\n",
       "      <td>NaN</td>\n",
       "      <td>NaN</td>\n",
       "      <td>NaN</td>\n",
       "      <td>NaN</td>\n",
       "      <td>NaN</td>\n",
       "      <td>...</td>\n",
       "      <td>NaN</td>\n",
       "      <td>978220800000000000</td>\n",
       "      <td>0</td>\n",
       "      <td>6</td>\n",
       "      <td>31</td>\n",
       "      <td>366</td>\n",
       "      <td>52</td>\n",
       "      <td>4</td>\n",
       "      <td>12</td>\n",
       "      <td>2000</td>\n",
       "    </tr>\n",
       "    <tr>\n",
       "      <th>1</th>\n",
       "      <td>755509.0</td>\n",
       "      <td>NaN</td>\n",
       "      <td>NaN</td>\n",
       "      <td>NaN</td>\n",
       "      <td>NaN</td>\n",
       "      <td>NaN</td>\n",
       "      <td>NaN</td>\n",
       "      <td>NaN</td>\n",
       "      <td>NaN</td>\n",
       "      <td>NaN</td>\n",
       "      <td>...</td>\n",
       "      <td>NaN</td>\n",
       "      <td>978307200000000000</td>\n",
       "      <td>0</td>\n",
       "      <td>0</td>\n",
       "      <td>1</td>\n",
       "      <td>1</td>\n",
       "      <td>1</td>\n",
       "      <td>1</td>\n",
       "      <td>1</td>\n",
       "      <td>2001</td>\n",
       "    </tr>\n",
       "    <tr>\n",
       "      <th>2</th>\n",
       "      <td>739250.0</td>\n",
       "      <td>755509.0</td>\n",
       "      <td>NaN</td>\n",
       "      <td>NaN</td>\n",
       "      <td>NaN</td>\n",
       "      <td>NaN</td>\n",
       "      <td>NaN</td>\n",
       "      <td>NaN</td>\n",
       "      <td>NaN</td>\n",
       "      <td>NaN</td>\n",
       "      <td>...</td>\n",
       "      <td>NaN</td>\n",
       "      <td>978393600000000000</td>\n",
       "      <td>0</td>\n",
       "      <td>1</td>\n",
       "      <td>2</td>\n",
       "      <td>2</td>\n",
       "      <td>1</td>\n",
       "      <td>1</td>\n",
       "      <td>1</td>\n",
       "      <td>2001</td>\n",
       "    </tr>\n",
       "    <tr>\n",
       "      <th>3</th>\n",
       "      <td>835115.0</td>\n",
       "      <td>739250.0</td>\n",
       "      <td>755509.0</td>\n",
       "      <td>NaN</td>\n",
       "      <td>NaN</td>\n",
       "      <td>NaN</td>\n",
       "      <td>NaN</td>\n",
       "      <td>NaN</td>\n",
       "      <td>NaN</td>\n",
       "      <td>NaN</td>\n",
       "      <td>...</td>\n",
       "      <td>NaN</td>\n",
       "      <td>978480000000000000</td>\n",
       "      <td>0</td>\n",
       "      <td>2</td>\n",
       "      <td>3</td>\n",
       "      <td>3</td>\n",
       "      <td>1</td>\n",
       "      <td>1</td>\n",
       "      <td>1</td>\n",
       "      <td>2001</td>\n",
       "    </tr>\n",
       "    <tr>\n",
       "      <th>4</th>\n",
       "      <td>861307.0</td>\n",
       "      <td>835115.0</td>\n",
       "      <td>739250.0</td>\n",
       "      <td>755509.0</td>\n",
       "      <td>NaN</td>\n",
       "      <td>NaN</td>\n",
       "      <td>NaN</td>\n",
       "      <td>NaN</td>\n",
       "      <td>NaN</td>\n",
       "      <td>NaN</td>\n",
       "      <td>...</td>\n",
       "      <td>NaN</td>\n",
       "      <td>978566400000000000</td>\n",
       "      <td>0</td>\n",
       "      <td>3</td>\n",
       "      <td>4</td>\n",
       "      <td>4</td>\n",
       "      <td>1</td>\n",
       "      <td>1</td>\n",
       "      <td>1</td>\n",
       "      <td>2001</td>\n",
       "    </tr>\n",
       "    <tr>\n",
       "      <th>5</th>\n",
       "      <td>844504.0</td>\n",
       "      <td>861307.0</td>\n",
       "      <td>835115.0</td>\n",
       "      <td>739250.0</td>\n",
       "      <td>755509.0</td>\n",
       "      <td>NaN</td>\n",
       "      <td>NaN</td>\n",
       "      <td>NaN</td>\n",
       "      <td>NaN</td>\n",
       "      <td>NaN</td>\n",
       "      <td>...</td>\n",
       "      <td>NaN</td>\n",
       "      <td>978652800000000000</td>\n",
       "      <td>0</td>\n",
       "      <td>4</td>\n",
       "      <td>5</td>\n",
       "      <td>5</td>\n",
       "      <td>1</td>\n",
       "      <td>1</td>\n",
       "      <td>1</td>\n",
       "      <td>2001</td>\n",
       "    </tr>\n",
       "    <tr>\n",
       "      <th>6</th>\n",
       "      <td>856184.0</td>\n",
       "      <td>844504.0</td>\n",
       "      <td>861307.0</td>\n",
       "      <td>835115.0</td>\n",
       "      <td>739250.0</td>\n",
       "      <td>755509.0</td>\n",
       "      <td>NaN</td>\n",
       "      <td>NaN</td>\n",
       "      <td>NaN</td>\n",
       "      <td>NaN</td>\n",
       "      <td>...</td>\n",
       "      <td>NaN</td>\n",
       "      <td>978739200000000000</td>\n",
       "      <td>0</td>\n",
       "      <td>5</td>\n",
       "      <td>6</td>\n",
       "      <td>6</td>\n",
       "      <td>1</td>\n",
       "      <td>1</td>\n",
       "      <td>1</td>\n",
       "      <td>2001</td>\n",
       "    </tr>\n",
       "    <tr>\n",
       "      <th>7</th>\n",
       "      <td>753527.0</td>\n",
       "      <td>856184.0</td>\n",
       "      <td>844504.0</td>\n",
       "      <td>861307.0</td>\n",
       "      <td>835115.0</td>\n",
       "      <td>739250.0</td>\n",
       "      <td>755509.0</td>\n",
       "      <td>NaN</td>\n",
       "      <td>NaN</td>\n",
       "      <td>NaN</td>\n",
       "      <td>...</td>\n",
       "      <td>NaN</td>\n",
       "      <td>978825600000000000</td>\n",
       "      <td>0</td>\n",
       "      <td>6</td>\n",
       "      <td>7</td>\n",
       "      <td>7</td>\n",
       "      <td>1</td>\n",
       "      <td>1</td>\n",
       "      <td>1</td>\n",
       "      <td>2001</td>\n",
       "    </tr>\n",
       "    <tr>\n",
       "      <th>8</th>\n",
       "      <td>715963.0</td>\n",
       "      <td>753527.0</td>\n",
       "      <td>856184.0</td>\n",
       "      <td>844504.0</td>\n",
       "      <td>861307.0</td>\n",
       "      <td>835115.0</td>\n",
       "      <td>739250.0</td>\n",
       "      <td>755509.0</td>\n",
       "      <td>NaN</td>\n",
       "      <td>NaN</td>\n",
       "      <td>...</td>\n",
       "      <td>NaN</td>\n",
       "      <td>978912000000000000</td>\n",
       "      <td>0</td>\n",
       "      <td>0</td>\n",
       "      <td>8</td>\n",
       "      <td>8</td>\n",
       "      <td>2</td>\n",
       "      <td>1</td>\n",
       "      <td>1</td>\n",
       "      <td>2001</td>\n",
       "    </tr>\n",
       "    <tr>\n",
       "      <th>9</th>\n",
       "      <td>798327.0</td>\n",
       "      <td>715963.0</td>\n",
       "      <td>753527.0</td>\n",
       "      <td>856184.0</td>\n",
       "      <td>844504.0</td>\n",
       "      <td>861307.0</td>\n",
       "      <td>835115.0</td>\n",
       "      <td>739250.0</td>\n",
       "      <td>755509.0</td>\n",
       "      <td>NaN</td>\n",
       "      <td>...</td>\n",
       "      <td>NaN</td>\n",
       "      <td>978998400000000000</td>\n",
       "      <td>0</td>\n",
       "      <td>1</td>\n",
       "      <td>9</td>\n",
       "      <td>9</td>\n",
       "      <td>2</td>\n",
       "      <td>1</td>\n",
       "      <td>1</td>\n",
       "      <td>2001</td>\n",
       "    </tr>\n",
       "  </tbody>\n",
       "</table>\n",
       "<p>10 rows × 373 columns</p>\n",
       "</div>"
      ],
      "text/plain": [
       "   PJM_Load_MW 1  PJM_Load_MW 2  PJM_Load_MW 3  PJM_Load_MW 4  PJM_Load_MW 5  \\\n",
       "0            NaN            NaN            NaN            NaN            NaN   \n",
       "1       755509.0            NaN            NaN            NaN            NaN   \n",
       "2       739250.0       755509.0            NaN            NaN            NaN   \n",
       "3       835115.0       739250.0       755509.0            NaN            NaN   \n",
       "4       861307.0       835115.0       739250.0       755509.0            NaN   \n",
       "5       844504.0       861307.0       835115.0       739250.0       755509.0   \n",
       "6       856184.0       844504.0       861307.0       835115.0       739250.0   \n",
       "7       753527.0       856184.0       844504.0       861307.0       835115.0   \n",
       "8       715963.0       753527.0       856184.0       844504.0       861307.0   \n",
       "9       798327.0       715963.0       753527.0       856184.0       844504.0   \n",
       "\n",
       "   PJM_Load_MW 6  PJM_Load_MW 7  PJM_Load_MW 8  PJM_Load_MW 9  PJM_Load_MW 10  \\\n",
       "0            NaN            NaN            NaN            NaN             NaN   \n",
       "1            NaN            NaN            NaN            NaN             NaN   \n",
       "2            NaN            NaN            NaN            NaN             NaN   \n",
       "3            NaN            NaN            NaN            NaN             NaN   \n",
       "4            NaN            NaN            NaN            NaN             NaN   \n",
       "5            NaN            NaN            NaN            NaN             NaN   \n",
       "6       755509.0            NaN            NaN            NaN             NaN   \n",
       "7       739250.0       755509.0            NaN            NaN             NaN   \n",
       "8       835115.0       739250.0       755509.0            NaN             NaN   \n",
       "9       861307.0       835115.0       739250.0       755509.0             NaN   \n",
       "\n",
       "   ...  PJM_Load_MW 364          date_epoch  hour  dayofweek  dayofmonth  \\\n",
       "0  ...              NaN  978220800000000000     0          6          31   \n",
       "1  ...              NaN  978307200000000000     0          0           1   \n",
       "2  ...              NaN  978393600000000000     0          1           2   \n",
       "3  ...              NaN  978480000000000000     0          2           3   \n",
       "4  ...              NaN  978566400000000000     0          3           4   \n",
       "5  ...              NaN  978652800000000000     0          4           5   \n",
       "6  ...              NaN  978739200000000000     0          5           6   \n",
       "7  ...              NaN  978825600000000000     0          6           7   \n",
       "8  ...              NaN  978912000000000000     0          0           8   \n",
       "9  ...              NaN  978998400000000000     0          1           9   \n",
       "\n",
       "   dayofyear  weekofyear  quarter  month  year  \n",
       "0        366          52        4     12  2000  \n",
       "1          1           1        1      1  2001  \n",
       "2          2           1        1      1  2001  \n",
       "3          3           1        1      1  2001  \n",
       "4          4           1        1      1  2001  \n",
       "5          5           1        1      1  2001  \n",
       "6          6           1        1      1  2001  \n",
       "7          7           1        1      1  2001  \n",
       "8          8           2        1      1  2001  \n",
       "9          9           2        1      1  2001  \n",
       "\n",
       "[10 rows x 373 columns]"
      ]
     },
     "execution_count": 38,
     "metadata": {},
     "output_type": "execute_result"
    }
   ],
   "source": [
    "xtrain = train.copy() \n",
    "xtest = test.copy() \n",
    "\n",
    "train_feature, train_label = preprocess_xgb_data(xtrain)\n",
    "test_feature, test_label = preprocess_xgb_data(xtest)\n",
    "\n",
    "test_feature.head(10)"
   ]
  },
  {
   "cell_type": "code",
   "execution_count": 39,
   "metadata": {
    "execution": {
     "iopub.execute_input": "2021-01-27T11:55:59.871389Z",
     "iopub.status.busy": "2021-01-27T11:55:59.870640Z",
     "iopub.status.idle": "2021-01-27T11:56:23.966246Z",
     "shell.execute_reply": "2021-01-27T11:56:23.967451Z"
    },
    "papermill": {
     "duration": 24.195024,
     "end_time": "2021-01-27T11:56:23.967650",
     "exception": false,
     "start_time": "2021-01-27T11:55:59.772626",
     "status": "completed"
    },
    "tags": []
   },
   "outputs": [
    {
     "name": "stdout",
     "output_type": "stream",
     "text": [
      "[0]\tvalidation_0-mae:497590.43750\n",
      "Will train until validation_0-mae hasn't improved in 100 rounds.\n",
      "[1]\tvalidation_0-mae:348903.50000\n",
      "[2]\tvalidation_0-mae:244993.90625\n",
      "[3]\tvalidation_0-mae:172217.34375\n",
      "[4]\tvalidation_0-mae:121468.93750\n",
      "[5]\tvalidation_0-mae:85815.03125\n",
      "[6]\tvalidation_0-mae:60810.62500\n",
      "[7]\tvalidation_0-mae:43257.45703\n",
      "[8]\tvalidation_0-mae:31384.62305\n",
      "[9]\tvalidation_0-mae:23775.93164\n",
      "[10]\tvalidation_0-mae:18706.64453\n",
      "[11]\tvalidation_0-mae:15111.72559\n",
      "[12]\tvalidation_0-mae:13095.98242\n",
      "[13]\tvalidation_0-mae:11884.46777\n",
      "[14]\tvalidation_0-mae:10861.52539\n",
      "[15]\tvalidation_0-mae:10249.40527\n",
      "[16]\tvalidation_0-mae:9537.03711\n",
      "[17]\tvalidation_0-mae:9285.36328\n",
      "[18]\tvalidation_0-mae:8752.82422\n",
      "[19]\tvalidation_0-mae:8497.34375\n",
      "[20]\tvalidation_0-mae:8183.97314\n",
      "[21]\tvalidation_0-mae:8037.02393\n",
      "[22]\tvalidation_0-mae:7871.42480\n",
      "[23]\tvalidation_0-mae:7526.26562\n",
      "[24]\tvalidation_0-mae:7308.14746\n",
      "[25]\tvalidation_0-mae:7106.11621\n",
      "[26]\tvalidation_0-mae:6691.13721\n",
      "[27]\tvalidation_0-mae:6570.83203\n",
      "[28]\tvalidation_0-mae:6311.92041\n",
      "[29]\tvalidation_0-mae:5983.38086\n",
      "[30]\tvalidation_0-mae:5818.45264\n",
      "[31]\tvalidation_0-mae:5702.93603\n",
      "[32]\tvalidation_0-mae:5551.96240\n",
      "[33]\tvalidation_0-mae:5319.29346\n",
      "[34]\tvalidation_0-mae:5124.95215\n",
      "[35]\tvalidation_0-mae:4918.07275\n",
      "[36]\tvalidation_0-mae:4812.04688\n",
      "[37]\tvalidation_0-mae:4705.43848\n",
      "[38]\tvalidation_0-mae:4602.49023\n",
      "[39]\tvalidation_0-mae:4429.63281\n",
      "[40]\tvalidation_0-mae:4278.32129\n",
      "[41]\tvalidation_0-mae:4145.26172\n",
      "[42]\tvalidation_0-mae:4016.90015\n",
      "[43]\tvalidation_0-mae:3901.46729\n",
      "[44]\tvalidation_0-mae:3808.19727\n",
      "[45]\tvalidation_0-mae:3602.79517\n",
      "[46]\tvalidation_0-mae:3424.10718\n",
      "[47]\tvalidation_0-mae:3360.06958\n",
      "[48]\tvalidation_0-mae:3279.92651\n",
      "[49]\tvalidation_0-mae:3197.91309\n",
      "[50]\tvalidation_0-mae:3065.34766\n",
      "[51]\tvalidation_0-mae:2989.63599\n",
      "[52]\tvalidation_0-mae:2892.36792\n",
      "[53]\tvalidation_0-mae:2781.96973\n",
      "[54]\tvalidation_0-mae:2717.12036\n",
      "[55]\tvalidation_0-mae:2683.98584\n",
      "[56]\tvalidation_0-mae:2602.05591\n",
      "[57]\tvalidation_0-mae:2483.75098\n",
      "[58]\tvalidation_0-mae:2445.42529\n",
      "[59]\tvalidation_0-mae:2385.45776\n",
      "[60]\tvalidation_0-mae:2288.64453\n",
      "[61]\tvalidation_0-mae:2222.58154\n",
      "[62]\tvalidation_0-mae:2152.94678\n",
      "[63]\tvalidation_0-mae:2090.88062\n",
      "[64]\tvalidation_0-mae:2058.24268\n",
      "[65]\tvalidation_0-mae:2033.00513\n",
      "[66]\tvalidation_0-mae:1958.60205\n",
      "[67]\tvalidation_0-mae:1868.55701\n",
      "[68]\tvalidation_0-mae:1812.52637\n",
      "[69]\tvalidation_0-mae:1779.56970\n",
      "[70]\tvalidation_0-mae:1747.53760\n",
      "[71]\tvalidation_0-mae:1709.58154\n",
      "[72]\tvalidation_0-mae:1668.95166\n",
      "[73]\tvalidation_0-mae:1572.46069\n",
      "[74]\tvalidation_0-mae:1548.92590\n",
      "[75]\tvalidation_0-mae:1511.22559\n",
      "[76]\tvalidation_0-mae:1475.97864\n",
      "[77]\tvalidation_0-mae:1439.99561\n",
      "[78]\tvalidation_0-mae:1374.25598\n",
      "[79]\tvalidation_0-mae:1336.25525\n",
      "[80]\tvalidation_0-mae:1316.43970\n",
      "[81]\tvalidation_0-mae:1297.02417\n",
      "[82]\tvalidation_0-mae:1262.48718\n",
      "[83]\tvalidation_0-mae:1204.31824\n",
      "[84]\tvalidation_0-mae:1170.18921\n",
      "[85]\tvalidation_0-mae:1154.52808\n",
      "[86]\tvalidation_0-mae:1121.36291\n",
      "[87]\tvalidation_0-mae:1098.09009\n",
      "[88]\tvalidation_0-mae:1059.21741\n",
      "[89]\tvalidation_0-mae:1037.48315\n",
      "[90]\tvalidation_0-mae:1018.60236\n",
      "[91]\tvalidation_0-mae:988.85077\n",
      "[92]\tvalidation_0-mae:955.28882\n",
      "[93]\tvalidation_0-mae:911.92694\n",
      "[94]\tvalidation_0-mae:887.41693\n",
      "[95]\tvalidation_0-mae:874.18445\n",
      "[96]\tvalidation_0-mae:855.55072\n",
      "[97]\tvalidation_0-mae:816.04358\n",
      "[98]\tvalidation_0-mae:789.37183\n",
      "[99]\tvalidation_0-mae:751.52985\n",
      "[100]\tvalidation_0-mae:742.02991\n",
      "[101]\tvalidation_0-mae:713.49713\n",
      "[102]\tvalidation_0-mae:689.01086\n",
      "[103]\tvalidation_0-mae:668.82965\n",
      "[104]\tvalidation_0-mae:647.39276\n",
      "[105]\tvalidation_0-mae:630.52081\n",
      "[106]\tvalidation_0-mae:615.80847\n",
      "[107]\tvalidation_0-mae:600.08496\n",
      "[108]\tvalidation_0-mae:583.62647\n",
      "[109]\tvalidation_0-mae:570.12262\n",
      "[110]\tvalidation_0-mae:551.94605\n",
      "[111]\tvalidation_0-mae:534.75269\n",
      "[112]\tvalidation_0-mae:523.02808\n",
      "[113]\tvalidation_0-mae:513.47711\n",
      "[114]\tvalidation_0-mae:503.80548\n",
      "[115]\tvalidation_0-mae:494.16550\n",
      "[116]\tvalidation_0-mae:482.14441\n",
      "[117]\tvalidation_0-mae:454.39154\n",
      "[118]\tvalidation_0-mae:444.89435\n",
      "[119]\tvalidation_0-mae:434.43793\n",
      "[120]\tvalidation_0-mae:416.29184\n",
      "[121]\tvalidation_0-mae:406.59708\n",
      "[122]\tvalidation_0-mae:392.50940\n",
      "[123]\tvalidation_0-mae:378.55377\n",
      "[124]\tvalidation_0-mae:364.67044\n",
      "[125]\tvalidation_0-mae:357.25589\n",
      "[126]\tvalidation_0-mae:351.89914\n",
      "[127]\tvalidation_0-mae:340.42917\n",
      "[128]\tvalidation_0-mae:331.80466\n",
      "[129]\tvalidation_0-mae:320.27469\n",
      "[130]\tvalidation_0-mae:311.38263\n",
      "[131]\tvalidation_0-mae:300.46219\n",
      "[132]\tvalidation_0-mae:297.17261\n",
      "[133]\tvalidation_0-mae:292.59784\n",
      "[134]\tvalidation_0-mae:289.46005\n",
      "[135]\tvalidation_0-mae:284.84946\n",
      "[136]\tvalidation_0-mae:280.06265\n",
      "[137]\tvalidation_0-mae:274.26633\n",
      "[138]\tvalidation_0-mae:267.70880\n",
      "[139]\tvalidation_0-mae:257.50583\n",
      "[140]\tvalidation_0-mae:253.96764\n",
      "[141]\tvalidation_0-mae:248.39984\n",
      "[142]\tvalidation_0-mae:244.71431\n",
      "[143]\tvalidation_0-mae:238.09611\n",
      "[144]\tvalidation_0-mae:233.62105\n",
      "[145]\tvalidation_0-mae:221.19676\n",
      "[146]\tvalidation_0-mae:214.83998\n",
      "[147]\tvalidation_0-mae:210.09627\n",
      "[148]\tvalidation_0-mae:205.95665\n",
      "[149]\tvalidation_0-mae:204.15727\n",
      "[150]\tvalidation_0-mae:197.57736\n",
      "[151]\tvalidation_0-mae:192.51097\n",
      "[152]\tvalidation_0-mae:188.48654\n",
      "[153]\tvalidation_0-mae:182.13386\n",
      "[154]\tvalidation_0-mae:176.22771\n",
      "[155]\tvalidation_0-mae:172.93558\n",
      "[156]\tvalidation_0-mae:165.37550\n",
      "[157]\tvalidation_0-mae:159.55519\n",
      "[158]\tvalidation_0-mae:156.65158\n",
      "[159]\tvalidation_0-mae:152.52864\n",
      "[160]\tvalidation_0-mae:146.68492\n",
      "[161]\tvalidation_0-mae:144.98085\n",
      "[162]\tvalidation_0-mae:142.46928\n",
      "[163]\tvalidation_0-mae:136.03029\n",
      "[164]\tvalidation_0-mae:132.10504\n",
      "[165]\tvalidation_0-mae:127.17320\n",
      "[166]\tvalidation_0-mae:123.96984\n",
      "[167]\tvalidation_0-mae:121.79027\n",
      "[168]\tvalidation_0-mae:119.12466\n",
      "[169]\tvalidation_0-mae:117.42914\n",
      "[170]\tvalidation_0-mae:113.79923\n",
      "[171]\tvalidation_0-mae:109.93131\n",
      "[172]\tvalidation_0-mae:107.15006\n",
      "[173]\tvalidation_0-mae:105.50665\n",
      "[174]\tvalidation_0-mae:103.59279\n",
      "[175]\tvalidation_0-mae:101.52904\n",
      "[176]\tvalidation_0-mae:100.14011\n",
      "[177]\tvalidation_0-mae:97.53871\n",
      "[178]\tvalidation_0-mae:96.39506\n",
      "[179]\tvalidation_0-mae:92.99480\n",
      "[180]\tvalidation_0-mae:91.20351\n",
      "[181]\tvalidation_0-mae:89.88489\n",
      "[182]\tvalidation_0-mae:88.87531\n",
      "[183]\tvalidation_0-mae:85.32864\n",
      "[184]\tvalidation_0-mae:83.34363\n",
      "[185]\tvalidation_0-mae:80.25361\n",
      "[186]\tvalidation_0-mae:77.75836\n",
      "[187]\tvalidation_0-mae:74.85389\n",
      "[188]\tvalidation_0-mae:73.04244\n",
      "[189]\tvalidation_0-mae:70.12690\n",
      "[190]\tvalidation_0-mae:68.67665\n",
      "[191]\tvalidation_0-mae:67.42236\n",
      "[192]\tvalidation_0-mae:65.73511\n",
      "[193]\tvalidation_0-mae:63.60494\n",
      "[194]\tvalidation_0-mae:62.32550\n",
      "[195]\tvalidation_0-mae:61.53570\n",
      "[196]\tvalidation_0-mae:59.96256\n",
      "[197]\tvalidation_0-mae:59.23445\n",
      "[198]\tvalidation_0-mae:57.32450\n",
      "[199]\tvalidation_0-mae:56.54248\n",
      "[200]\tvalidation_0-mae:54.91555\n",
      "[201]\tvalidation_0-mae:54.22879\n",
      "[202]\tvalidation_0-mae:53.25547\n",
      "[203]\tvalidation_0-mae:52.13100\n",
      "[204]\tvalidation_0-mae:51.25214\n",
      "[205]\tvalidation_0-mae:50.38865\n",
      "[206]\tvalidation_0-mae:49.45221\n",
      "[207]\tvalidation_0-mae:48.70718\n",
      "[208]\tvalidation_0-mae:47.90631\n",
      "[209]\tvalidation_0-mae:46.32052\n",
      "[210]\tvalidation_0-mae:44.36530\n",
      "[211]\tvalidation_0-mae:42.68510\n",
      "[212]\tvalidation_0-mae:42.13498\n",
      "[213]\tvalidation_0-mae:40.67572\n",
      "[214]\tvalidation_0-mae:40.32120\n",
      "[215]\tvalidation_0-mae:39.37544\n",
      "[216]\tvalidation_0-mae:38.92133\n",
      "[217]\tvalidation_0-mae:38.28775\n",
      "[218]\tvalidation_0-mae:37.49437\n",
      "[219]\tvalidation_0-mae:36.59033\n",
      "[220]\tvalidation_0-mae:34.70551\n",
      "[221]\tvalidation_0-mae:33.93821\n",
      "[222]\tvalidation_0-mae:33.13542\n",
      "[223]\tvalidation_0-mae:32.45815\n",
      "[224]\tvalidation_0-mae:31.12668\n",
      "[225]\tvalidation_0-mae:30.62052\n",
      "[226]\tvalidation_0-mae:29.63212\n",
      "[227]\tvalidation_0-mae:28.41129\n",
      "[228]\tvalidation_0-mae:27.83803\n",
      "[229]\tvalidation_0-mae:27.26564\n",
      "[230]\tvalidation_0-mae:26.40594\n",
      "[231]\tvalidation_0-mae:25.93896\n",
      "[232]\tvalidation_0-mae:25.63747\n",
      "[233]\tvalidation_0-mae:24.76841\n",
      "[234]\tvalidation_0-mae:24.49095\n",
      "[235]\tvalidation_0-mae:24.10774\n",
      "[236]\tvalidation_0-mae:23.62242\n",
      "[237]\tvalidation_0-mae:23.24664\n",
      "[238]\tvalidation_0-mae:22.86583\n",
      "[239]\tvalidation_0-mae:22.07640\n",
      "[240]\tvalidation_0-mae:21.46396\n",
      "[241]\tvalidation_0-mae:21.05693\n",
      "[242]\tvalidation_0-mae:20.25681\n",
      "[243]\tvalidation_0-mae:19.80065\n",
      "[244]\tvalidation_0-mae:19.23601\n",
      "[245]\tvalidation_0-mae:18.97923\n",
      "[246]\tvalidation_0-mae:18.38137\n",
      "[247]\tvalidation_0-mae:17.97796\n",
      "[248]\tvalidation_0-mae:17.56664\n",
      "[249]\tvalidation_0-mae:17.13041\n",
      "[250]\tvalidation_0-mae:16.67929\n",
      "[251]\tvalidation_0-mae:16.22777\n",
      "[252]\tvalidation_0-mae:15.93772\n",
      "[253]\tvalidation_0-mae:15.57475\n",
      "[254]\tvalidation_0-mae:15.34773\n",
      "[255]\tvalidation_0-mae:15.02578\n",
      "[256]\tvalidation_0-mae:14.79661\n",
      "[257]\tvalidation_0-mae:14.01309\n",
      "[258]\tvalidation_0-mae:13.83411\n",
      "[259]\tvalidation_0-mae:13.56813\n",
      "[260]\tvalidation_0-mae:13.29363\n",
      "[261]\tvalidation_0-mae:13.09916\n",
      "[262]\tvalidation_0-mae:12.70140\n",
      "[263]\tvalidation_0-mae:12.41856\n",
      "[264]\tvalidation_0-mae:12.22969\n",
      "[265]\tvalidation_0-mae:11.71265\n",
      "[266]\tvalidation_0-mae:11.35037\n",
      "[267]\tvalidation_0-mae:11.15541\n",
      "[268]\tvalidation_0-mae:10.86461\n",
      "[269]\tvalidation_0-mae:10.62114\n",
      "[270]\tvalidation_0-mae:10.43088\n",
      "[271]\tvalidation_0-mae:10.30951\n",
      "[272]\tvalidation_0-mae:10.13016\n",
      "[273]\tvalidation_0-mae:9.86225\n",
      "[274]\tvalidation_0-mae:9.51446\n",
      "[275]\tvalidation_0-mae:9.33137\n",
      "[276]\tvalidation_0-mae:9.09785\n",
      "[277]\tvalidation_0-mae:8.74605\n",
      "[278]\tvalidation_0-mae:8.51682\n",
      "[279]\tvalidation_0-mae:8.43797\n",
      "[280]\tvalidation_0-mae:8.23697\n",
      "[281]\tvalidation_0-mae:7.88153\n",
      "[282]\tvalidation_0-mae:7.80193\n",
      "[283]\tvalidation_0-mae:7.62307\n",
      "[284]\tvalidation_0-mae:7.51878\n",
      "[285]\tvalidation_0-mae:7.43374\n",
      "[286]\tvalidation_0-mae:7.21371\n",
      "[287]\tvalidation_0-mae:6.98921\n",
      "[288]\tvalidation_0-mae:6.83884\n",
      "[289]\tvalidation_0-mae:6.71415\n",
      "[290]\tvalidation_0-mae:6.58169\n",
      "[291]\tvalidation_0-mae:6.41166\n",
      "[292]\tvalidation_0-mae:6.32074\n",
      "[293]\tvalidation_0-mae:6.23598\n",
      "[294]\tvalidation_0-mae:5.94667\n",
      "[295]\tvalidation_0-mae:5.66020\n",
      "[296]\tvalidation_0-mae:5.59770\n",
      "[297]\tvalidation_0-mae:5.54005\n",
      "[298]\tvalidation_0-mae:5.47096\n",
      "[299]\tvalidation_0-mae:5.38669\n",
      "[300]\tvalidation_0-mae:5.20864\n",
      "[301]\tvalidation_0-mae:5.12693\n",
      "[302]\tvalidation_0-mae:5.01032\n",
      "[303]\tvalidation_0-mae:4.93663\n",
      "[304]\tvalidation_0-mae:4.72453\n",
      "[305]\tvalidation_0-mae:4.67870\n",
      "[306]\tvalidation_0-mae:4.59814\n",
      "[307]\tvalidation_0-mae:4.55647\n",
      "[308]\tvalidation_0-mae:4.41747\n",
      "[309]\tvalidation_0-mae:4.36443\n",
      "[310]\tvalidation_0-mae:4.32830\n",
      "[311]\tvalidation_0-mae:4.21636\n",
      "[312]\tvalidation_0-mae:4.14036\n",
      "[313]\tvalidation_0-mae:4.09409\n",
      "[314]\tvalidation_0-mae:4.03203\n",
      "[315]\tvalidation_0-mae:3.99216\n",
      "[316]\tvalidation_0-mae:3.92478\n",
      "[317]\tvalidation_0-mae:3.88038\n",
      "[318]\tvalidation_0-mae:3.80423\n",
      "[319]\tvalidation_0-mae:3.69185\n",
      "[320]\tvalidation_0-mae:3.57015\n",
      "[321]\tvalidation_0-mae:3.45644\n",
      "[322]\tvalidation_0-mae:3.41583\n",
      "[323]\tvalidation_0-mae:3.34957\n",
      "[324]\tvalidation_0-mae:3.30516\n",
      "[325]\tvalidation_0-mae:3.22108\n",
      "[326]\tvalidation_0-mae:3.08548\n",
      "[327]\tvalidation_0-mae:3.06166\n",
      "[328]\tvalidation_0-mae:2.99021\n",
      "[329]\tvalidation_0-mae:2.87009\n",
      "[330]\tvalidation_0-mae:2.80180\n",
      "[331]\tvalidation_0-mae:2.71947\n",
      "[332]\tvalidation_0-mae:2.68019\n",
      "[333]\tvalidation_0-mae:2.64089\n",
      "[334]\tvalidation_0-mae:2.60637\n",
      "[335]\tvalidation_0-mae:2.58498\n",
      "[336]\tvalidation_0-mae:2.53137\n",
      "[337]\tvalidation_0-mae:2.49008\n",
      "[338]\tvalidation_0-mae:2.43535\n",
      "[339]\tvalidation_0-mae:2.40911\n",
      "[340]\tvalidation_0-mae:2.36172\n",
      "[341]\tvalidation_0-mae:2.30989\n",
      "[342]\tvalidation_0-mae:2.25765\n",
      "[343]\tvalidation_0-mae:2.20566\n",
      "[344]\tvalidation_0-mae:2.14577\n",
      "[345]\tvalidation_0-mae:2.03952\n",
      "[346]\tvalidation_0-mae:2.01412\n",
      "[347]\tvalidation_0-mae:1.97472\n",
      "[348]\tvalidation_0-mae:1.95740\n",
      "[349]\tvalidation_0-mae:1.90616\n",
      "[350]\tvalidation_0-mae:1.89188\n",
      "[351]\tvalidation_0-mae:1.85519\n",
      "[352]\tvalidation_0-mae:1.80463\n",
      "[353]\tvalidation_0-mae:1.76751\n",
      "[354]\tvalidation_0-mae:1.74089\n",
      "[355]\tvalidation_0-mae:1.70637\n",
      "[356]\tvalidation_0-mae:1.69400\n",
      "[357]\tvalidation_0-mae:1.67099\n",
      "[358]\tvalidation_0-mae:1.60407\n",
      "[359]\tvalidation_0-mae:1.55513\n",
      "[360]\tvalidation_0-mae:1.50482\n",
      "[361]\tvalidation_0-mae:1.47839\n",
      "[362]\tvalidation_0-mae:1.46110\n",
      "[363]\tvalidation_0-mae:1.44425\n",
      "[364]\tvalidation_0-mae:1.37531\n",
      "[365]\tvalidation_0-mae:1.33759\n",
      "[366]\tvalidation_0-mae:1.31719\n",
      "[367]\tvalidation_0-mae:1.30588\n",
      "[368]\tvalidation_0-mae:1.25787\n",
      "[369]\tvalidation_0-mae:1.20128\n",
      "[370]\tvalidation_0-mae:1.14938\n",
      "[371]\tvalidation_0-mae:1.13277\n",
      "[372]\tvalidation_0-mae:1.10597\n",
      "[373]\tvalidation_0-mae:1.06228\n",
      "[374]\tvalidation_0-mae:1.02786\n",
      "[375]\tvalidation_0-mae:1.00647\n",
      "[376]\tvalidation_0-mae:0.99207\n",
      "[377]\tvalidation_0-mae:0.98293\n",
      "[378]\tvalidation_0-mae:0.96356\n",
      "[379]\tvalidation_0-mae:0.93753\n",
      "[380]\tvalidation_0-mae:0.92970\n",
      "[381]\tvalidation_0-mae:0.89922\n",
      "[382]\tvalidation_0-mae:0.88019\n",
      "[383]\tvalidation_0-mae:0.85970\n",
      "[384]\tvalidation_0-mae:0.81387\n",
      "[385]\tvalidation_0-mae:0.80261\n",
      "[386]\tvalidation_0-mae:0.79011\n",
      "[387]\tvalidation_0-mae:0.77441\n",
      "[388]\tvalidation_0-mae:0.74649\n",
      "[389]\tvalidation_0-mae:0.72609\n",
      "[390]\tvalidation_0-mae:0.71716\n",
      "[391]\tvalidation_0-mae:0.70715\n",
      "[392]\tvalidation_0-mae:0.69397\n",
      "[393]\tvalidation_0-mae:0.68004\n",
      "[394]\tvalidation_0-mae:0.65740\n",
      "[395]\tvalidation_0-mae:0.64185\n",
      "[396]\tvalidation_0-mae:0.63066\n",
      "[397]\tvalidation_0-mae:0.60703\n",
      "[398]\tvalidation_0-mae:0.60050\n",
      "[399]\tvalidation_0-mae:0.58178\n",
      "[400]\tvalidation_0-mae:0.56349\n",
      "[401]\tvalidation_0-mae:0.55650\n",
      "[402]\tvalidation_0-mae:0.54036\n",
      "[403]\tvalidation_0-mae:0.53190\n",
      "[404]\tvalidation_0-mae:0.52512\n",
      "[405]\tvalidation_0-mae:0.51256\n",
      "[406]\tvalidation_0-mae:0.49991\n",
      "[407]\tvalidation_0-mae:0.48598\n",
      "[408]\tvalidation_0-mae:0.47397\n",
      "[409]\tvalidation_0-mae:0.46331\n",
      "[410]\tvalidation_0-mae:0.44574\n",
      "[411]\tvalidation_0-mae:0.42969\n",
      "[412]\tvalidation_0-mae:0.42177\n",
      "[413]\tvalidation_0-mae:0.39795\n",
      "[414]\tvalidation_0-mae:0.38408\n",
      "[415]\tvalidation_0-mae:0.37233\n",
      "[416]\tvalidation_0-mae:0.36474\n",
      "[417]\tvalidation_0-mae:0.35665\n",
      "[418]\tvalidation_0-mae:0.35354\n",
      "[419]\tvalidation_0-mae:0.34524\n",
      "[420]\tvalidation_0-mae:0.32935\n",
      "[421]\tvalidation_0-mae:0.32419\n",
      "[422]\tvalidation_0-mae:0.31884\n",
      "[423]\tvalidation_0-mae:0.31393\n",
      "[424]\tvalidation_0-mae:0.30665\n",
      "[425]\tvalidation_0-mae:0.29674\n",
      "[426]\tvalidation_0-mae:0.29282\n",
      "[427]\tvalidation_0-mae:0.28862\n",
      "[428]\tvalidation_0-mae:0.28165\n",
      "[429]\tvalidation_0-mae:0.27805\n",
      "[430]\tvalidation_0-mae:0.27556\n",
      "[431]\tvalidation_0-mae:0.26626\n",
      "[432]\tvalidation_0-mae:0.25538\n",
      "[433]\tvalidation_0-mae:0.24888\n",
      "[434]\tvalidation_0-mae:0.24546\n",
      "[435]\tvalidation_0-mae:0.24105\n",
      "[436]\tvalidation_0-mae:0.23181\n",
      "[437]\tvalidation_0-mae:0.22770\n",
      "[438]\tvalidation_0-mae:0.21946\n",
      "[439]\tvalidation_0-mae:0.21437\n",
      "[440]\tvalidation_0-mae:0.20815\n",
      "[441]\tvalidation_0-mae:0.20395\n",
      "[442]\tvalidation_0-mae:0.19279\n",
      "[443]\tvalidation_0-mae:0.18719\n",
      "[444]\tvalidation_0-mae:0.18032\n",
      "[445]\tvalidation_0-mae:0.17335\n",
      "[446]\tvalidation_0-mae:0.16807\n",
      "[447]\tvalidation_0-mae:0.16287\n",
      "[448]\tvalidation_0-mae:0.15874\n",
      "[449]\tvalidation_0-mae:0.15006\n",
      "[450]\tvalidation_0-mae:0.14048\n",
      "[451]\tvalidation_0-mae:0.13514\n",
      "[452]\tvalidation_0-mae:0.12774\n",
      "[453]\tvalidation_0-mae:0.12388\n",
      "[454]\tvalidation_0-mae:0.11816\n",
      "[455]\tvalidation_0-mae:0.11275\n",
      "[456]\tvalidation_0-mae:0.10871\n",
      "[457]\tvalidation_0-mae:0.10476\n",
      "[458]\tvalidation_0-mae:0.10022\n",
      "[459]\tvalidation_0-mae:0.09512\n",
      "[460]\tvalidation_0-mae:0.09042\n",
      "[461]\tvalidation_0-mae:0.08806\n",
      "[462]\tvalidation_0-mae:0.08576\n",
      "[463]\tvalidation_0-mae:0.08240\n",
      "[464]\tvalidation_0-mae:0.08053\n",
      "[465]\tvalidation_0-mae:0.07855\n",
      "[466]\tvalidation_0-mae:0.07770\n",
      "[467]\tvalidation_0-mae:0.07646\n",
      "[468]\tvalidation_0-mae:0.07444\n",
      "[469]\tvalidation_0-mae:0.07394\n",
      "[470]\tvalidation_0-mae:0.07307\n",
      "[471]\tvalidation_0-mae:0.07177\n",
      "[472]\tvalidation_0-mae:0.06962\n",
      "[473]\tvalidation_0-mae:0.06832\n",
      "[474]\tvalidation_0-mae:0.06744\n",
      "[475]\tvalidation_0-mae:0.06608\n",
      "[476]\tvalidation_0-mae:0.06577\n",
      "[477]\tvalidation_0-mae:0.06477\n",
      "[478]\tvalidation_0-mae:0.06440\n",
      "[479]\tvalidation_0-mae:0.06384\n",
      "[480]\tvalidation_0-mae:0.06321\n",
      "[481]\tvalidation_0-mae:0.06315\n",
      "[482]\tvalidation_0-mae:0.06284\n",
      "[483]\tvalidation_0-mae:0.06284\n",
      "[484]\tvalidation_0-mae:0.06284\n",
      "[485]\tvalidation_0-mae:0.06284\n",
      "[486]\tvalidation_0-mae:0.06284\n",
      "[487]\tvalidation_0-mae:0.06284\n",
      "[488]\tvalidation_0-mae:0.06284\n",
      "[489]\tvalidation_0-mae:0.06284\n",
      "[490]\tvalidation_0-mae:0.06284\n",
      "[491]\tvalidation_0-mae:0.06284\n",
      "[492]\tvalidation_0-mae:0.06284\n",
      "[493]\tvalidation_0-mae:0.06284\n",
      "[494]\tvalidation_0-mae:0.06284\n",
      "[495]\tvalidation_0-mae:0.06284\n",
      "[496]\tvalidation_0-mae:0.06284\n",
      "[497]\tvalidation_0-mae:0.06284\n",
      "[498]\tvalidation_0-mae:0.06284\n",
      "[499]\tvalidation_0-mae:0.06284\n",
      "[500]\tvalidation_0-mae:0.06284\n",
      "[501]\tvalidation_0-mae:0.06284\n",
      "[502]\tvalidation_0-mae:0.06284\n",
      "[503]\tvalidation_0-mae:0.06284\n",
      "[504]\tvalidation_0-mae:0.06284\n",
      "[505]\tvalidation_0-mae:0.06284\n",
      "[506]\tvalidation_0-mae:0.06284\n",
      "[507]\tvalidation_0-mae:0.06284\n",
      "[508]\tvalidation_0-mae:0.06284\n",
      "[509]\tvalidation_0-mae:0.06284\n",
      "[510]\tvalidation_0-mae:0.06284\n",
      "[511]\tvalidation_0-mae:0.06284\n",
      "[512]\tvalidation_0-mae:0.06284\n",
      "[513]\tvalidation_0-mae:0.06284\n",
      "[514]\tvalidation_0-mae:0.06284\n",
      "[515]\tvalidation_0-mae:0.06284\n",
      "[516]\tvalidation_0-mae:0.06284\n",
      "[517]\tvalidation_0-mae:0.06284\n",
      "[518]\tvalidation_0-mae:0.06284\n",
      "[519]\tvalidation_0-mae:0.06284\n",
      "[520]\tvalidation_0-mae:0.06284\n",
      "[521]\tvalidation_0-mae:0.06284\n",
      "[522]\tvalidation_0-mae:0.06284\n",
      "[523]\tvalidation_0-mae:0.06284\n",
      "[524]\tvalidation_0-mae:0.06284\n",
      "[525]\tvalidation_0-mae:0.06284\n",
      "[526]\tvalidation_0-mae:0.06284\n",
      "[527]\tvalidation_0-mae:0.06284\n",
      "[528]\tvalidation_0-mae:0.06284\n",
      "[529]\tvalidation_0-mae:0.06284\n",
      "[530]\tvalidation_0-mae:0.06284\n",
      "[531]\tvalidation_0-mae:0.06284\n",
      "[532]\tvalidation_0-mae:0.06284\n",
      "[533]\tvalidation_0-mae:0.06284\n",
      "[534]\tvalidation_0-mae:0.06284\n",
      "[535]\tvalidation_0-mae:0.06284\n",
      "[536]\tvalidation_0-mae:0.06284\n",
      "[537]\tvalidation_0-mae:0.06284\n",
      "[538]\tvalidation_0-mae:0.06284\n",
      "[539]\tvalidation_0-mae:0.06284\n",
      "[540]\tvalidation_0-mae:0.06284\n",
      "[541]\tvalidation_0-mae:0.06284\n",
      "[542]\tvalidation_0-mae:0.06284\n",
      "[543]\tvalidation_0-mae:0.06284\n",
      "[544]\tvalidation_0-mae:0.06284\n",
      "[545]\tvalidation_0-mae:0.06284\n",
      "[546]\tvalidation_0-mae:0.06284\n",
      "[547]\tvalidation_0-mae:0.06284\n",
      "[548]\tvalidation_0-mae:0.06284\n",
      "[549]\tvalidation_0-mae:0.06284\n",
      "[550]\tvalidation_0-mae:0.06284\n",
      "[551]\tvalidation_0-mae:0.06284\n",
      "[552]\tvalidation_0-mae:0.06284\n",
      "[553]\tvalidation_0-mae:0.06284\n",
      "[554]\tvalidation_0-mae:0.06284\n",
      "[555]\tvalidation_0-mae:0.06284\n",
      "[556]\tvalidation_0-mae:0.06284\n",
      "[557]\tvalidation_0-mae:0.06284\n",
      "[558]\tvalidation_0-mae:0.06284\n",
      "[559]\tvalidation_0-mae:0.06284\n",
      "[560]\tvalidation_0-mae:0.06284\n",
      "[561]\tvalidation_0-mae:0.06284\n",
      "[562]\tvalidation_0-mae:0.06284\n",
      "[563]\tvalidation_0-mae:0.06284\n",
      "[564]\tvalidation_0-mae:0.06284\n",
      "[565]\tvalidation_0-mae:0.06284\n",
      "[566]\tvalidation_0-mae:0.06284\n",
      "[567]\tvalidation_0-mae:0.06284\n",
      "[568]\tvalidation_0-mae:0.06284\n",
      "[569]\tvalidation_0-mae:0.06284\n",
      "[570]\tvalidation_0-mae:0.06284\n",
      "[571]\tvalidation_0-mae:0.06284\n",
      "[572]\tvalidation_0-mae:0.06284\n",
      "[573]\tvalidation_0-mae:0.06284\n",
      "[574]\tvalidation_0-mae:0.06284\n",
      "[575]\tvalidation_0-mae:0.06284\n",
      "[576]\tvalidation_0-mae:0.06284\n",
      "[577]\tvalidation_0-mae:0.06284\n",
      "[578]\tvalidation_0-mae:0.06284\n",
      "[579]\tvalidation_0-mae:0.06284\n",
      "[580]\tvalidation_0-mae:0.06284\n",
      "[581]\tvalidation_0-mae:0.06284\n",
      "[582]\tvalidation_0-mae:0.06284\n",
      "Stopping. Best iteration:\n",
      "[482]\tvalidation_0-mae:0.06284\n",
      "\n"
     ]
    }
   ],
   "source": [
    "\n",
    "from xgboost import XGBRegressor\n",
    "from sklearn.model_selection import KFold, train_test_split\n",
    "\n",
    "model = XGBRegressor(\n",
    "    max_depth=6\n",
    "    ,n_estimators=1000\n",
    "    ,booster='gbtree'\n",
    "    ,colsample_bytree=1 \n",
    "    ,eta=0.3 \n",
    "    ,importance_type='weight' \n",
    ")\n",
    "model.fit(\n",
    "    train_feature\n",
    "    ,train_label\n",
    "    ,eval_set=[(train_feature, train_label)]\n",
    "    ,eval_metric='mae'\n",
    "    ,verbose=True\n",
    "    ,early_stopping_rounds=100 \n",
    ")\n",
    "\n",
    "xtest['PJM_Load_MW Prediction'] = model.predict(test_feature)\n",
    "XGB_prediction = xtest[['Datetime', 'PJM_Load_MW Prediction']]\n",
    "\n"
   ]
  },
  {
   "cell_type": "code",
   "execution_count": 40,
   "metadata": {
    "execution": {
     "iopub.execute_input": "2021-01-27T11:56:24.566055Z",
     "iopub.status.busy": "2021-01-27T11:56:24.565344Z",
     "iopub.status.idle": "2021-01-27T11:56:24.568475Z",
     "shell.execute_reply": "2021-01-27T11:56:24.568955Z"
    },
    "papermill": {
     "duration": 0.285033,
     "end_time": "2021-01-27T11:56:24.569107",
     "exception": false,
     "start_time": "2021-01-27T11:56:24.284074",
     "status": "completed"
    },
    "tags": []
   },
   "outputs": [
    {
     "data": {
      "text/html": [
       "<div>\n",
       "<style scoped>\n",
       "    .dataframe tbody tr th:only-of-type {\n",
       "        vertical-align: middle;\n",
       "    }\n",
       "\n",
       "    .dataframe tbody tr th {\n",
       "        vertical-align: top;\n",
       "    }\n",
       "\n",
       "    .dataframe thead th {\n",
       "        text-align: right;\n",
       "    }\n",
       "</style>\n",
       "<table border=\"1\" class=\"dataframe\">\n",
       "  <thead>\n",
       "    <tr style=\"text-align: right;\">\n",
       "      <th></th>\n",
       "      <th>Datetime</th>\n",
       "      <th>PJM_Load_MW Prediction</th>\n",
       "    </tr>\n",
       "  </thead>\n",
       "  <tbody>\n",
       "    <tr>\n",
       "      <th>0</th>\n",
       "      <td>2000-12-31</td>\n",
       "      <td>617040.0625</td>\n",
       "    </tr>\n",
       "    <tr>\n",
       "      <th>1</th>\n",
       "      <td>2001-01-01</td>\n",
       "      <td>730434.3125</td>\n",
       "    </tr>\n",
       "    <tr>\n",
       "      <th>2</th>\n",
       "      <td>2001-01-02</td>\n",
       "      <td>727746.1875</td>\n",
       "    </tr>\n",
       "    <tr>\n",
       "      <th>3</th>\n",
       "      <td>2001-01-03</td>\n",
       "      <td>809243.3750</td>\n",
       "    </tr>\n",
       "    <tr>\n",
       "      <th>4</th>\n",
       "      <td>2001-01-04</td>\n",
       "      <td>811578.1250</td>\n",
       "    </tr>\n",
       "  </tbody>\n",
       "</table>\n",
       "</div>"
      ],
      "text/plain": [
       "    Datetime  PJM_Load_MW Prediction\n",
       "0 2000-12-31             617040.0625\n",
       "1 2001-01-01             730434.3125\n",
       "2 2001-01-02             727746.1875\n",
       "3 2001-01-03             809243.3750\n",
       "4 2001-01-04             811578.1250"
      ]
     },
     "execution_count": 40,
     "metadata": {},
     "output_type": "execute_result"
    }
   ],
   "source": [
    "XGB_prediction.head()"
   ]
  },
  {
   "cell_type": "code",
   "execution_count": 41,
   "metadata": {
    "execution": {
     "iopub.execute_input": "2021-01-27T11:56:25.117126Z",
     "iopub.status.busy": "2021-01-27T11:56:25.116442Z",
     "iopub.status.idle": "2021-01-27T11:56:25.124595Z",
     "shell.execute_reply": "2021-01-27T11:56:25.124069Z"
    },
    "papermill": {
     "duration": 0.284583,
     "end_time": "2021-01-27T11:56:25.124719",
     "exception": false,
     "start_time": "2021-01-27T11:56:24.840136",
     "status": "completed"
    },
    "tags": []
   },
   "outputs": [
    {
     "name": "stdout",
     "output_type": "stream",
     "text": [
      "0      617040.0625\n",
      "1      730434.3125\n",
      "2      727746.1875\n",
      "3      809243.3750\n",
      "4      811578.1250\n",
      "          ...     \n",
      "361    749505.6875\n",
      "362    755377.0000\n",
      "363    730237.0000\n",
      "364    712504.5000\n",
      "365    771347.3125\n",
      "Name: PJM_Load_MW Prediction, Length: 366, dtype: float32\n"
     ]
    }
   ],
   "source": [
    "print(XGB_prediction['PJM_Load_MW Prediction'])"
   ]
  },
  {
   "cell_type": "code",
   "execution_count": 42,
   "metadata": {
    "execution": {
     "iopub.execute_input": "2021-01-27T11:56:25.684103Z",
     "iopub.status.busy": "2021-01-27T11:56:25.683205Z",
     "iopub.status.idle": "2021-01-27T11:56:25.686381Z",
     "shell.execute_reply": "2021-01-27T11:56:25.686943Z"
    },
    "papermill": {
     "duration": 0.288243,
     "end_time": "2021-01-27T11:56:25.687095",
     "exception": false,
     "start_time": "2021-01-27T11:56:25.398852",
     "status": "completed"
    },
    "tags": []
   },
   "outputs": [
    {
     "name": "stdout",
     "output_type": "stream",
     "text": [
      "0      755509.0\n",
      "1      739250.0\n",
      "2      835115.0\n",
      "3      861307.0\n",
      "4      844504.0\n",
      "         ...   \n",
      "361    794222.0\n",
      "362    779757.0\n",
      "363    721638.0\n",
      "364    743012.0\n",
      "365    782528.0\n",
      "Name: PJM_Load_MW, Length: 366, dtype: float64\n"
     ]
    }
   ],
   "source": [
    "print(test_label)"
   ]
  },
  {
   "cell_type": "code",
   "execution_count": 43,
   "metadata": {
    "execution": {
     "iopub.execute_input": "2021-01-27T11:56:26.247919Z",
     "iopub.status.busy": "2021-01-27T11:56:26.247237Z",
     "iopub.status.idle": "2021-01-27T11:56:26.252778Z",
     "shell.execute_reply": "2021-01-27T11:56:26.252155Z"
    },
    "papermill": {
     "duration": 0.286123,
     "end_time": "2021-01-27T11:56:26.252948",
     "exception": false,
     "start_time": "2021-01-27T11:56:25.966825",
     "status": "completed"
    },
    "tags": []
   },
   "outputs": [
    {
     "name": "stdout",
     "output_type": "stream",
     "text": [
      "R^2 Score of XGBoost model =  0.7476033637613382\n"
     ]
    }
   ],
   "source": [
    "lstm_score_revised_xgboost = r2_score(test_label,XGB_prediction['PJM_Load_MW Prediction'])\n",
    "print(\"R^2 Score of XGBoost model = \",lstm_score_revised_xgboost)"
   ]
  },
  {
   "cell_type": "markdown",
   "metadata": {
    "papermill": {
     "duration": 0.2724,
     "end_time": "2021-01-27T11:56:26.822768",
     "exception": false,
     "start_time": "2021-01-27T11:56:26.550368",
     "status": "completed"
    },
    "tags": []
   },
   "source": [
    "# **Tek Değişkenli RNN Tahmin Modeli**"
   ]
  },
  {
   "cell_type": "markdown",
   "metadata": {
    "papermill": {
     "duration": 0.271759,
     "end_time": "2021-01-27T11:56:27.377845",
     "exception": false,
     "start_time": "2021-01-27T11:56:27.106086",
     "status": "completed"
    },
    "tags": []
   },
   "source": [
    "**Veri Görselleştirme**"
   ]
  },
  {
   "cell_type": "code",
   "execution_count": 44,
   "metadata": {
    "execution": {
     "iopub.execute_input": "2021-01-27T11:56:27.933051Z",
     "iopub.status.busy": "2021-01-27T11:56:27.931968Z",
     "iopub.status.idle": "2021-01-27T11:56:28.267499Z",
     "shell.execute_reply": "2021-01-27T11:56:28.266784Z"
    },
    "papermill": {
     "duration": 0.619282,
     "end_time": "2021-01-27T11:56:28.267615",
     "exception": false,
     "start_time": "2021-01-27T11:56:27.648333",
     "status": "completed"
    },
    "tags": []
   },
   "outputs": [
    {
     "data": {
      "image/png": "[encoded data removed]",
      "text/plain": [
       "<Figure size 1152x288 with 1 Axes>"
      ]
     },
     "metadata": {
      "needs_background": "light"
     },
     "output_type": "display_data"
    }
   ],
   "source": [
    "df.plot(figsize=(16,4),legend=True)\n",
    "\n",
    "plt.title('PJM hourly power consumption data - BEFORE NORMALIZATION')\n",
    "\n",
    "plt.show()"
   ]
  },
  {
   "cell_type": "markdown",
   "metadata": {
    "papermill": {
     "duration": 0.28018,
     "end_time": "2021-01-27T11:56:28.824663",
     "exception": false,
     "start_time": "2021-01-27T11:56:28.544483",
     "status": "completed"
    },
    "tags": []
   },
   "source": [
    "Verileri normalleştirmek için sklearn MinMaxScalar kullanacağız"
   ]
  },
  {
   "cell_type": "code",
   "execution_count": 45,
   "metadata": {
    "execution": {
     "iopub.execute_input": "2021-01-27T11:56:29.386436Z",
     "iopub.status.busy": "2021-01-27T11:56:29.385658Z",
     "iopub.status.idle": "2021-01-27T11:56:29.390061Z",
     "shell.execute_reply": "2021-01-27T11:56:29.389420Z"
    },
    "papermill": {
     "duration": 0.289334,
     "end_time": "2021-01-27T11:56:29.390175",
     "exception": false,
     "start_time": "2021-01-27T11:56:29.100841",
     "status": "completed"
    },
    "tags": []
   },
   "outputs": [
    {
     "data": {
      "text/plain": [
       "(32896, 1)"
      ]
     },
     "execution_count": 45,
     "metadata": {},
     "output_type": "execute_result"
    }
   ],
   "source": [
    "def normalize_data(df):\n",
    "    scaler = sklearn.preprocessing.MinMaxScaler()\n",
    "    df['PJM_Load_MW']=scaler.fit_transform(df['PJM_Load_MW'].values.reshape(-1,1))\n",
    "    return df\n",
    "\n",
    "df_norm = normalize_data(df)\n",
    "df_norm.shape"
   ]
  },
  {
   "cell_type": "markdown",
   "metadata": {
    "papermill": {
     "duration": 0.276708,
     "end_time": "2021-01-27T11:56:29.943686",
     "exception": false,
     "start_time": "2021-01-27T11:56:29.666978",
     "status": "completed"
    },
    "tags": []
   },
   "source": [
    "Normalleştirmeden sonra verileri görselleştirelim\n",
    "\n",
    "* Normalleştirmeden sonra, grafiğin y ekseninde görebileceğimiz güç tüketimi değerleri aralığı değişir. Görüntülenen önceki grafikte 0 - 54000 aralığındaydı\n",
    "* Normalleştirmeden sonra, y eksenindeki veri aralığının 0.0 - 1.0 olduğunu görebiliriz."
   ]
  },
  {
   "cell_type": "code",
   "execution_count": 46,
   "metadata": {
    "execution": {
     "iopub.execute_input": "2021-01-27T11:56:30.552257Z",
     "iopub.status.busy": "2021-01-27T11:56:30.551192Z",
     "iopub.status.idle": "2021-01-27T11:56:30.877588Z",
     "shell.execute_reply": "2021-01-27T11:56:30.878085Z"
    },
    "papermill": {
     "duration": 0.649732,
     "end_time": "2021-01-27T11:56:30.878247",
     "exception": false,
     "start_time": "2021-01-27T11:56:30.228515",
     "status": "completed"
    },
    "tags": []
   },
   "outputs": [
    {
     "data": {
      "image/png": "[encoded data removed]",
      "text/plain": [
       "<Figure size 1152x288 with 1 Axes>"
      ]
     },
     "metadata": {
      "needs_background": "light"
     },
     "output_type": "display_data"
    }
   ],
   "source": [
    "df_norm.plot(figsize=(16,4),legend=True)\n",
    "\n",
    "plt.title('PJM hourly power consumption data - AFTER NORMALIZATION')\n",
    "\n",
    "plt.show()"
   ]
  },
  {
   "cell_type": "code",
   "execution_count": 47,
   "metadata": {
    "execution": {
     "iopub.execute_input": "2021-01-27T11:56:31.439075Z",
     "iopub.status.busy": "2021-01-27T11:56:31.438036Z",
     "iopub.status.idle": "2021-01-27T11:56:31.449195Z",
     "shell.execute_reply": "2021-01-27T11:56:31.449708Z"
    },
    "papermill": {
     "duration": 0.291981,
     "end_time": "2021-01-27T11:56:31.449882",
     "exception": false,
     "start_time": "2021-01-27T11:56:31.157901",
     "status": "completed"
    },
    "tags": []
   },
   "outputs": [],
   "source": [
    "def load_data(stock, seq_len):\n",
    "    X_train = []\n",
    "    y_train = []\n",
    "    for i in range(seq_len, len(stock)-5):\n",
    "        X_train.append(stock.iloc[i-seq_len : i, 0])\n",
    "        y_train.append(stock.iloc[i+5, 0])\n",
    "\n",
    "    X_test = X_train[24114:]             \n",
    "    y_test = y_train[24114:]\n",
    "    \n",
    "    X_train = X_train[:24114]           \n",
    "    y_train = y_train[:24114]\n",
    "    \n",
    "    X_train = np.array(X_train)\n",
    "    y_train = np.array(y_train)\n",
    "    \n",
    "    X_test = np.array(X_test)\n",
    "    y_test = np.array(y_test)\n",
    "    \n",
    "    X_train = np.reshape(X_train, (24114, seq_len, 1))\n",
    "    \n",
    "    X_test = np.reshape(X_test, (X_test.shape[0], seq_len, 1))\n",
    "    \n",
    "    return [X_train, y_train, X_test, y_test]"
   ]
  },
  {
   "cell_type": "code",
   "execution_count": 48,
   "metadata": {
    "execution": {
     "iopub.execute_input": "2021-01-27T11:56:32.016192Z",
     "iopub.status.busy": "2021-01-27T11:56:32.015132Z",
     "iopub.status.idle": "2021-01-27T11:56:32.020578Z",
     "shell.execute_reply": "2021-01-27T11:56:32.021152Z"
    },
    "papermill": {
     "duration": 0.289715,
     "end_time": "2021-01-27T11:56:32.021301",
     "exception": false,
     "start_time": "2021-01-27T11:56:31.731586",
     "status": "completed"
    },
    "tags": []
   },
   "outputs": [
    {
     "name": "stdout",
     "output_type": "stream",
     "text": [
      "(32896, 1)\n"
     ]
    }
   ],
   "source": [
    "print(df_norm.shape)"
   ]
  },
  {
   "cell_type": "code",
   "execution_count": 49,
   "metadata": {
    "execution": {
     "iopub.execute_input": "2021-01-27T11:56:32.586534Z",
     "iopub.status.busy": "2021-01-27T11:56:32.585782Z",
     "iopub.status.idle": "2021-01-27T11:56:42.441706Z",
     "shell.execute_reply": "2021-01-27T11:56:42.442266Z"
    },
    "papermill": {
     "duration": 10.139286,
     "end_time": "2021-01-27T11:56:42.442415",
     "exception": false,
     "start_time": "2021-01-27T11:56:32.303129",
     "status": "completed"
    },
    "tags": []
   },
   "outputs": [
    {
     "name": "stdout",
     "output_type": "stream",
     "text": [
      "X_train.shape =  (24114, 70, 1)\n",
      "y_train.shape =  (24114,)\n",
      "X_test.shape =  (8707, 70, 1)\n",
      "y_test.shape =  (8707,)\n"
     ]
    }
   ],
   "source": [
    "seq_len = 70 \n",
    "\n",
    "X_train, y_train, X_test, y_test = load_data(df_norm, seq_len)\n",
    "\n",
    "print('X_train.shape = ',X_train.shape)\n",
    "print('y_train.shape = ', y_train.shape)\n",
    "print('X_test.shape = ', X_test.shape)\n",
    "print('y_test.shape = ',y_test.shape)"
   ]
  },
  {
   "cell_type": "code",
   "execution_count": 50,
   "metadata": {
    "execution": {
     "iopub.execute_input": "2021-01-27T11:56:43.007950Z",
     "iopub.status.busy": "2021-01-27T11:56:43.007151Z",
     "iopub.status.idle": "2021-01-27T11:56:43.118260Z",
     "shell.execute_reply": "2021-01-27T11:56:43.118818Z"
    },
    "papermill": {
     "duration": 0.399977,
     "end_time": "2021-01-27T11:56:43.119021",
     "exception": false,
     "start_time": "2021-01-27T11:56:42.719044",
     "status": "completed"
    },
    "tags": []
   },
   "outputs": [
    {
     "name": "stderr",
     "output_type": "stream",
     "text": [
      "Using TensorFlow backend.\n"
     ]
    }
   ],
   "source": [
    "from keras.models import Sequential\n",
    "from keras.layers import Dense,Dropout,SimpleRNN,LSTM\n",
    "from keras.preprocessing.sequence import TimeseriesGenerator\n"
   ]
  },
  {
   "cell_type": "markdown",
   "metadata": {
    "papermill": {
     "duration": 0.285396,
     "end_time": "2021-01-27T11:56:43.687474",
     "exception": false,
     "start_time": "2021-01-27T11:56:43.402078",
     "status": "completed"
    },
    "tags": []
   },
   "source": [
    "RNN Modeli"
   ]
  },
  {
   "cell_type": "code",
   "execution_count": 51,
   "metadata": {
    "execution": {
     "iopub.execute_input": "2021-01-27T11:56:44.264002Z",
     "iopub.status.busy": "2021-01-27T11:56:44.263272Z",
     "iopub.status.idle": "2021-01-27T11:56:44.696492Z",
     "shell.execute_reply": "2021-01-27T11:56:44.695607Z"
    },
    "papermill": {
     "duration": 0.725107,
     "end_time": "2021-01-27T11:56:44.696649",
     "exception": false,
     "start_time": "2021-01-27T11:56:43.971542",
     "status": "completed"
    },
    "tags": []
   },
   "outputs": [
    {
     "name": "stdout",
     "output_type": "stream",
     "text": [
      "Model: \"sequential\"\n",
      "_________________________________________________________________\n",
      "Layer (type)                 Output Shape              Param #   \n",
      "=================================================================\n",
      "simple_rnn (SimpleRNN)       (None, 70, 40)            1680      \n",
      "_________________________________________________________________\n",
      "dropout (Dropout)            (None, 70, 40)            0         \n",
      "_________________________________________________________________\n",
      "simple_rnn_1 (SimpleRNN)     (None, 70, 40)            3240      \n",
      "_________________________________________________________________\n",
      "dropout_1 (Dropout)          (None, 70, 40)            0         \n",
      "_________________________________________________________________\n",
      "simple_rnn_2 (SimpleRNN)     (None, 40)                3240      \n",
      "_________________________________________________________________\n",
      "dropout_2 (Dropout)          (None, 40)                0         \n",
      "_________________________________________________________________\n",
      "dense (Dense)                (None, 1)                 41        \n",
      "=================================================================\n",
      "Total params: 8,201\n",
      "Trainable params: 8,201\n",
      "Non-trainable params: 0\n",
      "_________________________________________________________________\n"
     ]
    }
   ],
   "source": [
    "rnn_model = Sequential()\n",
    "\n",
    "rnn_model.add(SimpleRNN(40,activation=\"tanh\",return_sequences=True, input_shape=(X_train.shape[1],1)))\n",
    "rnn_model.add(Dropout(0.15))\n",
    "\n",
    "rnn_model.add(SimpleRNN(40,activation=\"tanh\",return_sequences=True))\n",
    "rnn_model.add(Dropout(0.15))\n",
    "\n",
    "rnn_model.add(SimpleRNN(40,activation=\"tanh\",return_sequences=False))\n",
    "rnn_model.add(Dropout(0.15))\n",
    "\n",
    "rnn_model.add(Dense(1))\n",
    "\n",
    "rnn_model.summary()"
   ]
  },
  {
   "cell_type": "code",
   "execution_count": 52,
   "metadata": {
    "execution": {
     "iopub.execute_input": "2021-01-27T11:56:45.282152Z",
     "iopub.status.busy": "2021-01-27T11:56:45.281074Z",
     "iopub.status.idle": "2021-01-27T11:58:15.900439Z",
     "shell.execute_reply": "2021-01-27T11:58:15.899705Z"
    },
    "papermill": {
     "duration": 90.924225,
     "end_time": "2021-01-27T11:58:15.900587",
     "exception": false,
     "start_time": "2021-01-27T11:56:44.976362",
     "status": "completed"
    },
    "tags": []
   },
   "outputs": [
    {
     "name": "stdout",
     "output_type": "stream",
     "text": [
      "Epoch 1/17\n",
      "25/25 [==============================] - 6s 231ms/step - loss: 0.2717 - val_loss: 0.0312\n",
      "Epoch 2/17\n",
      "25/25 [==============================] - 5s 200ms/step - loss: 0.1263 - val_loss: 0.0108\n",
      "Epoch 3/17\n",
      "25/25 [==============================] - 5s 196ms/step - loss: 0.0808 - val_loss: 0.0070\n",
      "Epoch 4/17\n",
      "25/25 [==============================] - 5s 199ms/step - loss: 0.0550 - val_loss: 0.0059\n",
      "Epoch 5/17\n",
      "25/25 [==============================] - 5s 195ms/step - loss: 0.0390 - val_loss: 0.0067\n",
      "Epoch 6/17\n",
      "25/25 [==============================] - 5s 207ms/step - loss: 0.0307 - val_loss: 0.0060\n",
      "Epoch 7/17\n",
      "25/25 [==============================] - 5s 196ms/step - loss: 0.0257 - val_loss: 0.0053\n",
      "Epoch 8/17\n",
      "25/25 [==============================] - 5s 196ms/step - loss: 0.0224 - val_loss: 0.0050\n",
      "Epoch 9/17\n",
      "25/25 [==============================] - 5s 196ms/step - loss: 0.0196 - val_loss: 0.0056\n",
      "Epoch 10/17\n",
      "25/25 [==============================] - 5s 197ms/step - loss: 0.0177 - val_loss: 0.0056\n",
      "Epoch 11/17\n",
      "25/25 [==============================] - 5s 191ms/step - loss: 0.0157 - val_loss: 0.0047\n",
      "Epoch 12/17\n",
      "25/25 [==============================] - 5s 208ms/step - loss: 0.0145 - val_loss: 0.0050\n",
      "Epoch 13/17\n",
      "25/25 [==============================] - 5s 190ms/step - loss: 0.0133 - val_loss: 0.0046\n",
      "Epoch 14/17\n",
      "25/25 [==============================] - 5s 192ms/step - loss: 0.0124 - val_loss: 0.0045\n",
      "Epoch 15/17\n",
      "25/25 [==============================] - 5s 193ms/step - loss: 0.0114 - val_loss: 0.0045\n",
      "Epoch 16/17\n",
      "25/25 [==============================] - 5s 202ms/step - loss: 0.0109 - val_loss: 0.0042\n",
      "Epoch 17/17\n",
      "25/25 [==============================] - 5s 201ms/step - loss: 0.0101 - val_loss: 0.0042\n"
     ]
    }
   ],
   "source": [
    "rnn_model.compile(optimizer=\"adam\",loss=\"MSE\")\n",
    "history= rnn_model.fit(X_train, y_train, epochs=17, validation_data=(X_test, y_test), batch_size=1000)"
   ]
  },
  {
   "cell_type": "code",
   "execution_count": 53,
   "metadata": {
    "execution": {
     "iopub.execute_input": "2021-01-27T11:58:16.782440Z",
     "iopub.status.busy": "2021-01-27T11:58:16.771494Z",
     "iopub.status.idle": "2021-01-27T11:58:16.957651Z",
     "shell.execute_reply": "2021-01-27T11:58:16.957071Z"
    },
    "papermill": {
     "duration": 0.619692,
     "end_time": "2021-01-27T11:58:16.957764",
     "exception": false,
     "start_time": "2021-01-27T11:58:16.338072",
     "status": "completed"
    },
    "tags": []
   },
   "outputs": [
    {
     "data": {
      "image/png": "[encoded data removed]",
      "text/plain": [
       "<Figure size 432x288 with 1 Axes>"
      ]
     },
     "metadata": {
      "needs_background": "light"
     },
     "output_type": "display_data"
    }
   ],
   "source": [
    "plt.plot(history.history['loss'])\n",
    "plt.plot(history.history['val_loss'])\n",
    "plt.title('model train vs validation loss')\n",
    "plt.ylabel('loss')\n",
    "plt.xlabel('epoch')\n",
    "plt.legend(['train', 'validation'], loc='upper right')\n",
    "plt.show()"
   ]
  },
  {
   "cell_type": "markdown",
   "metadata": {
    "papermill": {
     "duration": 0.42617,
     "end_time": "2021-01-27T11:58:17.812266",
     "exception": false,
     "start_time": "2021-01-27T11:58:17.386096",
     "status": "completed"
    },
    "tags": []
   },
   "source": [
    "Grafiğe göre, çağ sayısı arttıkça hem doğrulama kaybı hem de kaybı azalmaktadır."
   ]
  },
  {
   "cell_type": "code",
   "execution_count": 54,
   "metadata": {
    "execution": {
     "iopub.execute_input": "2021-01-27T11:58:18.674695Z",
     "iopub.status.busy": "2021-01-27T11:58:18.673585Z",
     "iopub.status.idle": "2021-01-27T11:58:22.459914Z",
     "shell.execute_reply": "2021-01-27T11:58:22.459302Z"
    },
    "papermill": {
     "duration": 4.219519,
     "end_time": "2021-01-27T11:58:22.460045",
     "exception": false,
     "start_time": "2021-01-27T11:58:18.240526",
     "status": "completed"
    },
    "tags": []
   },
   "outputs": [
    {
     "name": "stdout",
     "output_type": "stream",
     "text": [
      "R^2 Score of RNN model =  0.8368702493270719\n"
     ]
    }
   ],
   "source": [
    "rnn_predictions = rnn_model.predict(X_test)\n",
    "\n",
    "rnn_score = r2_score(y_test,rnn_predictions)\n",
    "print(\"R^2 Score of RNN model = \",rnn_score)"
   ]
  },
  {
   "cell_type": "markdown",
   "metadata": {
    "papermill": {
     "duration": 0.487407,
     "end_time": "2021-01-27T11:58:23.377840",
     "exception": false,
     "start_time": "2021-01-27T11:58:22.890433",
     "status": "completed"
    },
    "tags": []
   },
   "source": [
    "Görünüşe göre RNN modeli XGBoost modelinden önemli ölçüde daha iyi bir iş çıkarıyor."
   ]
  },
  {
   "cell_type": "code",
   "execution_count": 55,
   "metadata": {
    "execution": {
     "iopub.execute_input": "2021-01-27T11:58:24.238454Z",
     "iopub.status.busy": "2021-01-27T11:58:24.237693Z",
     "iopub.status.idle": "2021-01-27T11:58:24.466056Z",
     "shell.execute_reply": "2021-01-27T11:58:24.465377Z"
    },
    "papermill": {
     "duration": 0.658309,
     "end_time": "2021-01-27T11:58:24.466175",
     "exception": false,
     "start_time": "2021-01-27T11:58:23.807866",
     "status": "completed"
    },
    "tags": []
   },
   "outputs": [
    {
     "data": {
      "image/png": "[encoded data removed]",
      "text/plain": [
       "<Figure size 1152x288 with 1 Axes>"
      ]
     },
     "metadata": {
      "needs_background": "light"
     },
     "output_type": "display_data"
    }
   ],
   "source": [
    "def plot_predictions(test, predicted, title):\n",
    "    plt.figure(figsize=(16,4))\n",
    "    plt.plot(test, color='blue',label='Actual power consumption data')\n",
    "    plt.plot(predicted, alpha=0.7, color='orange',label='Predicted power consumption data')\n",
    "    plt.title(title)\n",
    "    plt.xlabel('Time')\n",
    "    plt.ylabel('Normalized power consumption scale')\n",
    "    plt.legend()\n",
    "    plt.show()\n",
    "    \n",
    "plot_predictions(y_test, rnn_predictions, \"Predictions made by simple RNN model\")"
   ]
  },
  {
   "cell_type": "markdown",
   "metadata": {
    "papermill": {
     "duration": 0.430083,
     "end_time": "2021-01-27T11:58:25.328041",
     "exception": false,
     "start_time": "2021-01-27T11:58:24.897958",
     "status": "completed"
    },
    "tags": []
   },
   "source": [
    "# **LSTM Modeli**\n"
   ]
  },
  {
   "cell_type": "code",
   "execution_count": 56,
   "metadata": {
    "execution": {
     "iopub.execute_input": "2021-01-27T11:58:26.203052Z",
     "iopub.status.busy": "2021-01-27T11:58:26.201487Z",
     "iopub.status.idle": "2021-01-27T11:58:26.986787Z",
     "shell.execute_reply": "2021-01-27T11:58:26.987685Z"
    },
    "papermill": {
     "duration": 1.234815,
     "end_time": "2021-01-27T11:58:26.987932",
     "exception": false,
     "start_time": "2021-01-27T11:58:25.753117",
     "status": "completed"
    },
    "tags": []
   },
   "outputs": [
    {
     "name": "stdout",
     "output_type": "stream",
     "text": [
      "Model: \"sequential_1\"\n",
      "_________________________________________________________________\n",
      "Layer (type)                 Output Shape              Param #   \n",
      "=================================================================\n",
      "lstm (LSTM)                  (None, 70, 40)            6720      \n",
      "_________________________________________________________________\n",
      "dropout_3 (Dropout)          (None, 70, 40)            0         \n",
      "_________________________________________________________________\n",
      "lstm_1 (LSTM)                (None, 70, 40)            12960     \n",
      "_________________________________________________________________\n",
      "dropout_4 (Dropout)          (None, 70, 40)            0         \n",
      "_________________________________________________________________\n",
      "lstm_2 (LSTM)                (None, 40)                12960     \n",
      "_________________________________________________________________\n",
      "dropout_5 (Dropout)          (None, 40)                0         \n",
      "_________________________________________________________________\n",
      "dense_1 (Dense)              (None, 1)                 41        \n",
      "=================================================================\n",
      "Total params: 32,681\n",
      "Trainable params: 32,681\n",
      "Non-trainable params: 0\n",
      "_________________________________________________________________\n"
     ]
    }
   ],
   "source": [
    "lstm_model = Sequential()\n",
    "\n",
    "lstm_model.add(LSTM(40,activation=\"tanh\",return_sequences=True, input_shape=(X_train.shape[1],1)))\n",
    "lstm_model.add(Dropout(0.15))\n",
    "\n",
    "lstm_model.add(LSTM(40,activation=\"tanh\",return_sequences=True))\n",
    "lstm_model.add(Dropout(0.15))\n",
    "\n",
    "lstm_model.add(LSTM(40,activation=\"tanh\",return_sequences=False))\n",
    "lstm_model.add(Dropout(0.15))\n",
    "\n",
    "lstm_model.add(Dense(1))\n",
    "\n",
    "lstm_model.summary()"
   ]
  },
  {
   "cell_type": "code",
   "execution_count": 57,
   "metadata": {
    "execution": {
     "iopub.execute_input": "2021-01-27T11:58:27.868254Z",
     "iopub.status.busy": "2021-01-27T11:58:27.867520Z",
     "iopub.status.idle": "2021-01-27T12:06:22.213661Z",
     "shell.execute_reply": "2021-01-27T12:06:22.214390Z"
    },
    "papermill": {
     "duration": 474.79342,
     "end_time": "2021-01-27T12:06:22.214552",
     "exception": false,
     "start_time": "2021-01-27T11:58:27.421132",
     "status": "completed"
    },
    "tags": []
   },
   "outputs": [
    {
     "name": "stdout",
     "output_type": "stream",
     "text": [
      "Epoch 1/28\n",
      "25/25 [==============================] - 17s 689ms/step - loss: 0.0324 - val_loss: 0.0209\n",
      "Epoch 2/28\n",
      "25/25 [==============================] - 16s 643ms/step - loss: 0.0200 - val_loss: 0.0188\n",
      "Epoch 3/28\n",
      "25/25 [==============================] - 16s 631ms/step - loss: 0.0174 - val_loss: 0.0148\n",
      "Epoch 4/28\n",
      "25/25 [==============================] - 16s 637ms/step - loss: 0.0125 - val_loss: 0.0099\n",
      "Epoch 5/28\n",
      "25/25 [==============================] - 16s 630ms/step - loss: 0.0103 - val_loss: 0.0094\n",
      "Epoch 6/28\n",
      "25/25 [==============================] - 16s 645ms/step - loss: 0.0099 - val_loss: 0.0090\n",
      "Epoch 7/28\n",
      "25/25 [==============================] - 16s 633ms/step - loss: 0.0095 - val_loss: 0.0087\n",
      "Epoch 8/28\n",
      "25/25 [==============================] - 16s 655ms/step - loss: 0.0091 - val_loss: 0.0082\n",
      "Epoch 9/28\n",
      "25/25 [==============================] - 16s 642ms/step - loss: 0.0085 - val_loss: 0.0076\n",
      "Epoch 10/28\n",
      "25/25 [==============================] - 16s 643ms/step - loss: 0.0079 - val_loss: 0.0070\n",
      "Epoch 11/28\n",
      "25/25 [==============================] - 16s 648ms/step - loss: 0.0075 - val_loss: 0.0072\n",
      "Epoch 12/28\n",
      "25/25 [==============================] - 16s 629ms/step - loss: 0.0075 - val_loss: 0.0065\n",
      "Epoch 13/28\n",
      "25/25 [==============================] - 17s 676ms/step - loss: 0.0071 - val_loss: 0.0062\n",
      "Epoch 14/28\n",
      "25/25 [==============================] - 16s 631ms/step - loss: 0.0069 - val_loss: 0.0059\n",
      "Epoch 15/28\n",
      "25/25 [==============================] - 16s 643ms/step - loss: 0.0066 - val_loss: 0.0057\n",
      "Epoch 16/28\n",
      "25/25 [==============================] - 16s 630ms/step - loss: 0.0065 - val_loss: 0.0055\n",
      "Epoch 17/28\n",
      "25/25 [==============================] - 16s 652ms/step - loss: 0.0063 - val_loss: 0.0053\n",
      "Epoch 18/28\n",
      "25/25 [==============================] - 16s 644ms/step - loss: 0.0061 - val_loss: 0.0052\n",
      "Epoch 19/28\n",
      "25/25 [==============================] - 16s 646ms/step - loss: 0.0059 - val_loss: 0.0052\n",
      "Epoch 20/28\n",
      "25/25 [==============================] - 16s 633ms/step - loss: 0.0058 - val_loss: 0.0049\n",
      "Epoch 21/28\n",
      "25/25 [==============================] - 16s 643ms/step - loss: 0.0057 - val_loss: 0.0048\n",
      "Epoch 22/28\n",
      "25/25 [==============================] - 16s 637ms/step - loss: 0.0055 - val_loss: 0.0046\n",
      "Epoch 23/28\n",
      "25/25 [==============================] - 17s 668ms/step - loss: 0.0054 - val_loss: 0.0045\n",
      "Epoch 24/28\n",
      "25/25 [==============================] - 16s 642ms/step - loss: 0.0053 - val_loss: 0.0046\n",
      "Epoch 25/28\n",
      "25/25 [==============================] - 16s 653ms/step - loss: 0.0052 - val_loss: 0.0045\n",
      "Epoch 26/28\n",
      "25/25 [==============================] - 16s 654ms/step - loss: 0.0052 - val_loss: 0.0043\n",
      "Epoch 27/28\n",
      "25/25 [==============================] - 16s 653ms/step - loss: 0.0050 - val_loss: 0.0046\n",
      "Epoch 28/28\n",
      "25/25 [==============================] - 16s 651ms/step - loss: 0.0050 - val_loss: 0.0044\n"
     ]
    }
   ],
   "source": [
    "lstm_model.compile(optimizer=\"adam\",loss=\"MSE\")\n",
    "history_lstm=lstm_model.fit(X_train, y_train, epochs=28, validation_data=(X_test, y_test),batch_size=1000)\n"
   ]
  },
  {
   "cell_type": "code",
   "execution_count": 58,
   "metadata": {
    "execution": {
     "iopub.execute_input": "2021-01-27T12:06:23.602235Z",
     "iopub.status.busy": "2021-01-27T12:06:23.601532Z",
     "iopub.status.idle": "2021-01-27T12:06:23.776783Z",
     "shell.execute_reply": "2021-01-27T12:06:23.777325Z"
    },
    "papermill": {
     "duration": 0.885237,
     "end_time": "2021-01-27T12:06:23.777482",
     "exception": false,
     "start_time": "2021-01-27T12:06:22.892245",
     "status": "completed"
    },
    "tags": []
   },
   "outputs": [
    {
     "data": {
      "image/png": "[encoded data removed]",
      "text/plain": [
       "<Figure size 432x288 with 1 Axes>"
      ]
     },
     "metadata": {
      "needs_background": "light"
     },
     "output_type": "display_data"
    }
   ],
   "source": [
    "plt.plot(history_lstm.history['loss'])\n",
    "plt.plot(history_lstm.history['val_loss'])\n",
    "plt.title('model train vs validation loss')\n",
    "plt.ylabel('loss')\n",
    "plt.xlabel('epoch')\n",
    "plt.legend(['train', 'validation'], loc='upper right')\n",
    "plt.show()"
   ]
  },
  {
   "cell_type": "code",
   "execution_count": 59,
   "metadata": {
    "execution": {
     "iopub.execute_input": "2021-01-27T12:06:25.184924Z",
     "iopub.status.busy": "2021-01-27T12:06:25.183709Z",
     "iopub.status.idle": "2021-01-27T12:06:32.410630Z",
     "shell.execute_reply": "2021-01-27T12:06:32.409915Z"
    },
    "papermill": {
     "duration": 7.926973,
     "end_time": "2021-01-27T12:06:32.410757",
     "exception": false,
     "start_time": "2021-01-27T12:06:24.483784",
     "status": "completed"
    },
    "tags": []
   },
   "outputs": [
    {
     "name": "stdout",
     "output_type": "stream",
     "text": [
      "R^2 Score of LSTM model =  0.8312249685014776\n"
     ]
    }
   ],
   "source": [
    "lstm_predictions = lstm_model.predict(X_test)\n",
    "\n",
    "lstm_score = r2_score(y_test, lstm_predictions)\n",
    "print(\"R^2 Score of LSTM model = \",lstm_score)"
   ]
  },
  {
   "cell_type": "markdown",
   "metadata": {
    "papermill": {
     "duration": 0.680735,
     "end_time": "2021-01-27T12:06:33.778767",
     "exception": false,
     "start_time": "2021-01-27T12:06:33.098032",
     "status": "completed"
    },
    "tags": []
   },
   "source": [
    "Daha kolay referans: RNN modelinin R^2 puanı = 0,946558009942673. Bu nedenle, bu durumda LSTM modeli tahmin etmede daha iyidir."
   ]
  },
  {
   "cell_type": "code",
   "execution_count": 60,
   "metadata": {
    "execution": {
     "iopub.execute_input": "2021-01-27T12:06:35.180325Z",
     "iopub.status.busy": "2021-01-27T12:06:35.176275Z",
     "iopub.status.idle": "2021-01-27T12:06:35.402730Z",
     "shell.execute_reply": "2021-01-27T12:06:35.403324Z"
    },
    "papermill": {
     "duration": 0.930548,
     "end_time": "2021-01-27T12:06:35.403473",
     "exception": false,
     "start_time": "2021-01-27T12:06:34.472925",
     "status": "completed"
    },
    "tags": []
   },
   "outputs": [
    {
     "data": {
      "image/png": "[encoded data removed]",
      "text/plain": [
       "<Figure size 1152x288 with 1 Axes>"
      ]
     },
     "metadata": {
      "needs_background": "light"
     },
     "output_type": "display_data"
    }
   ],
   "source": [
    "plot_predictions(y_test, lstm_predictions, \"Predictions made by LSTM model\")"
   ]
  },
  {
   "cell_type": "code",
   "execution_count": 61,
   "metadata": {
    "execution": {
     "iopub.execute_input": "2021-01-27T12:06:36.822417Z",
     "iopub.status.busy": "2021-01-27T12:06:36.821277Z",
     "iopub.status.idle": "2021-01-27T12:06:37.091298Z",
     "shell.execute_reply": "2021-01-27T12:06:37.091915Z"
    },
    "papermill": {
     "duration": 0.966417,
     "end_time": "2021-01-27T12:06:37.092084",
     "exception": false,
     "start_time": "2021-01-27T12:06:36.125667",
     "status": "completed"
    },
    "tags": []
   },
   "outputs": [
    {
     "data": {
      "image/png": "[encoded data removed]",
      "text/plain": [
       "<Figure size 1080x576 with 1 Axes>"
      ]
     },
     "metadata": {
      "needs_background": "light"
     },
     "output_type": "display_data"
    }
   ],
   "source": [
    "plt.figure(figsize=(15,8))\n",
    "\n",
    "plt.plot(y_test, c=\"orange\", linewidth=3, label=\"Original values\")\n",
    "plt.plot(lstm_predictions, c=\"red\", linewidth=3, label=\"LSTM predictions\")\n",
    "plt.plot(rnn_predictions, alpha=0.5, c=\"green\", linewidth=3, label=\"RNN predictions\")\n",
    "plt.legend()\n",
    "plt.title(\"Predictions vs actual data\", fontsize=20)\n",
    "plt.show()"
   ]
  },
  {
   "cell_type": "code",
   "execution_count": 62,
   "metadata": {
    "execution": {
     "iopub.execute_input": "2021-01-27T12:06:38.489807Z",
     "iopub.status.busy": "2021-01-27T12:06:38.488724Z",
     "iopub.status.idle": "2021-01-27T12:06:38.492473Z",
     "shell.execute_reply": "2021-01-27T12:06:38.491746Z"
    },
    "papermill": {
     "duration": 0.698614,
     "end_time": "2021-01-27T12:06:38.492596",
     "exception": false,
     "start_time": "2021-01-27T12:06:37.793982",
     "status": "completed"
    },
    "tags": []
   },
   "outputs": [],
   "source": [
    "from scipy.stats import norm\n",
    "from scipy import stats"
   ]
  },
  {
   "cell_type": "code",
   "execution_count": 63,
   "metadata": {
    "execution": {
     "iopub.execute_input": "2021-01-27T12:06:39.873119Z",
     "iopub.status.busy": "2021-01-27T12:06:39.872368Z",
     "iopub.status.idle": "2021-01-27T12:06:39.982866Z",
     "shell.execute_reply": "2021-01-27T12:06:39.982179Z"
    },
    "papermill": {
     "duration": 0.803194,
     "end_time": "2021-01-27T12:06:39.982999",
     "exception": false,
     "start_time": "2021-01-27T12:06:39.179805",
     "status": "completed"
    },
    "tags": []
   },
   "outputs": [
    {
     "ename": "IndexError",
     "evalue": "only integers, slices (`:`), ellipsis (`...`), numpy.newaxis (`None`) and integer or boolean arrays are valid indices",
     "output_type": "error",
     "traceback": [
      "\u001b[0;31m---------------------------------------------------------------------------\u001b[0m",
      "\u001b[0;31mIndexError\u001b[0m                                Traceback (most recent call last)",
      "\u001b[0;32m<ipython-input-63-7f7fbc361b64>\u001b[0m in \u001b[0;36m<module>\u001b[0;34m\u001b[0m\n\u001b[0;32m----> 1\u001b[0;31m \u001b[0msns\u001b[0m\u001b[0;34m.\u001b[0m\u001b[0mdistplot\u001b[0m\u001b[0;34m(\u001b[0m\u001b[0mX_train\u001b[0m\u001b[0;34m[\u001b[0m\u001b[0;34m'hour'\u001b[0m\u001b[0;34m]\u001b[0m\u001b[0;34m,\u001b[0m \u001b[0mfit\u001b[0m\u001b[0;34m=\u001b[0m\u001b[0mnorm\u001b[0m\u001b[0;34m)\u001b[0m\u001b[0;34m;\u001b[0m\u001b[0;34m\u001b[0m\u001b[0;34m\u001b[0m\u001b[0m\n\u001b[0m\u001b[1;32m      2\u001b[0m \u001b[0mfig\u001b[0m \u001b[0;34m=\u001b[0m \u001b[0mplt\u001b[0m\u001b[0;34m.\u001b[0m\u001b[0mfigure\u001b[0m\u001b[0;34m(\u001b[0m\u001b[0;34m)\u001b[0m\u001b[0;34m\u001b[0m\u001b[0;34m\u001b[0m\u001b[0m\n\u001b[1;32m      3\u001b[0m \u001b[0mres\u001b[0m \u001b[0;34m=\u001b[0m \u001b[0mstats\u001b[0m\u001b[0;34m.\u001b[0m\u001b[0mprobplot\u001b[0m\u001b[0;34m(\u001b[0m\u001b[0mX_train\u001b[0m\u001b[0;34m[\u001b[0m\u001b[0;34m'hour'\u001b[0m\u001b[0;34m]\u001b[0m\u001b[0;34m,\u001b[0m \u001b[0mplot\u001b[0m\u001b[0;34m=\u001b[0m\u001b[0mplt\u001b[0m\u001b[0;34m)\u001b[0m\u001b[0;34m\u001b[0m\u001b[0;34m\u001b[0m\u001b[0m\n",
      "\u001b[0;31mIndexError\u001b[0m: only integers, slices (`:`), ellipsis (`...`), numpy.newaxis (`None`) and integer or boolean arrays are valid indices"
     ]
    }
   ],
   "source": [
    "sns.distplot(X_train['hour'], fit=norm);\n",
    "fig = plt.figure()\n",
    "res = stats.probplot(X_train['hour'], plot=plt)"
   ]
  },
  {
   "cell_type": "markdown",
   "metadata": {
    "papermill": {
     "duration": 0.686406,
     "end_time": "2021-01-27T12:06:41.363933",
     "exception": false,
     "start_time": "2021-01-27T12:06:40.677527",
     "status": "completed"
    },
    "tags": []
   },
   "source": [
    "LSTM modeli oluşturma"
   ]
  },
  {
   "cell_type": "code",
   "execution_count": 64,
   "metadata": {
    "execution": {
     "iopub.execute_input": "2021-01-27T12:06:42.816368Z",
     "iopub.status.busy": "2021-01-27T12:06:42.815679Z",
     "iopub.status.idle": "2021-01-27T12:06:42.846276Z",
     "shell.execute_reply": "2021-01-27T12:06:42.846830Z"
    },
    "papermill": {
     "duration": 0.739701,
     "end_time": "2021-01-27T12:06:42.847018",
     "exception": false,
     "start_time": "2021-01-27T12:06:42.107317",
     "status": "completed"
    },
    "tags": []
   },
   "outputs": [
    {
     "ename": "NameError",
     "evalue": "name 'train_X' is not defined",
     "output_type": "error",
     "traceback": [
      "\u001b[0;31m---------------------------------------------------------------------------\u001b[0m",
      "\u001b[0;31mNameError\u001b[0m                                 Traceback (most recent call last)",
      "\u001b[0;32m<ipython-input-64-7fce63a59101>\u001b[0m in \u001b[0;36m<module>\u001b[0;34m\u001b[0m\n\u001b[1;32m      1\u001b[0m \u001b[0mmodel\u001b[0m \u001b[0;34m=\u001b[0m \u001b[0mSequential\u001b[0m\u001b[0;34m(\u001b[0m\u001b[0;34m)\u001b[0m\u001b[0;34m\u001b[0m\u001b[0;34m\u001b[0m\u001b[0m\n\u001b[0;32m----> 2\u001b[0;31m \u001b[0mmodel\u001b[0m\u001b[0;34m.\u001b[0m\u001b[0madd\u001b[0m\u001b[0;34m(\u001b[0m\u001b[0mLSTM\u001b[0m\u001b[0;34m(\u001b[0m\u001b[0;36m50\u001b[0m\u001b[0;34m,\u001b[0m \u001b[0minput_shape\u001b[0m\u001b[0;34m=\u001b[0m\u001b[0;34m(\u001b[0m\u001b[0mtrain_X\u001b[0m\u001b[0;34m.\u001b[0m\u001b[0mshape\u001b[0m\u001b[0;34m[\u001b[0m\u001b[0;36m1\u001b[0m\u001b[0;34m]\u001b[0m\u001b[0;34m,\u001b[0m \u001b[0mtrain_X\u001b[0m\u001b[0;34m.\u001b[0m\u001b[0mshape\u001b[0m\u001b[0;34m[\u001b[0m\u001b[0;36m2\u001b[0m\u001b[0;34m]\u001b[0m\u001b[0;34m)\u001b[0m\u001b[0;34m)\u001b[0m\u001b[0;34m)\u001b[0m\u001b[0;34m\u001b[0m\u001b[0;34m\u001b[0m\u001b[0m\n\u001b[0m\u001b[1;32m      3\u001b[0m \u001b[0mmodel\u001b[0m\u001b[0;34m.\u001b[0m\u001b[0madd\u001b[0m\u001b[0;34m(\u001b[0m\u001b[0mDense\u001b[0m\u001b[0;34m(\u001b[0m\u001b[0;36m1\u001b[0m\u001b[0;34m)\u001b[0m\u001b[0;34m)\u001b[0m\u001b[0;34m\u001b[0m\u001b[0;34m\u001b[0m\u001b[0m\n\u001b[1;32m      4\u001b[0m \u001b[0mmodel\u001b[0m\u001b[0;34m.\u001b[0m\u001b[0mcompile\u001b[0m\u001b[0;34m(\u001b[0m\u001b[0mloss\u001b[0m\u001b[0;34m=\u001b[0m\u001b[0;34m'mae'\u001b[0m\u001b[0;34m,\u001b[0m \u001b[0moptimizer\u001b[0m\u001b[0;34m=\u001b[0m\u001b[0;34m'adam'\u001b[0m\u001b[0;34m)\u001b[0m\u001b[0;34m\u001b[0m\u001b[0;34m\u001b[0m\u001b[0m\n\u001b[1;32m      5\u001b[0m \u001b[0;34m\u001b[0m\u001b[0m\n",
      "\u001b[0;31mNameError\u001b[0m: name 'train_X' is not defined"
     ]
    }
   ],
   "source": [
    "model = Sequential()\n",
    "model.add(LSTM(50, input_shape=(train_X.shape[1], train_X.shape[2])))\n",
    "model.add(Dense(1))\n",
    "model.compile(loss='mae', optimizer='adam')\n",
    "\n",
    "history = model.fit(train_X, y_train, epochs=50, batch_size=72, validation_data=(test_X, y_test), verbose=2, shuffle=False)\n",
    "\n",
    "pyplot.plot(history.history['loss'], label='train')\n",
    "pyplot.plot(history.history['val_loss'], label='test')\n",
    "pyplot.legend()\n",
    "pyplot.show()"
   ]
  },
  {
   "cell_type": "code",
   "execution_count": 65,
   "metadata": {
    "execution": {
     "iopub.execute_input": "2021-01-27T12:06:44.247109Z",
     "iopub.status.busy": "2021-01-27T12:06:44.241265Z",
     "iopub.status.idle": "2021-01-27T12:06:44.417630Z",
     "shell.execute_reply": "2021-01-27T12:06:44.417050Z"
    },
    "papermill": {
     "duration": 0.877573,
     "end_time": "2021-01-27T12:06:44.417756",
     "exception": false,
     "start_time": "2021-01-27T12:06:43.540183",
     "status": "completed"
    },
    "tags": []
   },
   "outputs": [
    {
     "data": {
      "image/png": "[encoded data removed]",
      "text/plain": [
       "<Figure size 432x288 with 1 Axes>"
      ]
     },
     "metadata": {
      "needs_background": "light"
     },
     "output_type": "display_data"
    }
   ],
   "source": [
    "plt.plot(history.history['loss'], label='train')\n",
    "plt.plot(history.history['val_loss'], label='test')\n",
    "plt.legend()\n",
    "plt.show()"
   ]
  }
 ],
 "metadata": {
  "kernelspec": {
   "display_name": "Python 3",
   "language": "python",
   "name": "python3"
  },
  "language_info": {
   "codemirror_mode": {
    "name": "ipython",
    "version": 3
   },
   "file_extension": ".py",
   "mimetype": "text/x-python",
   "name": "python",
   "nbconvert_exporter": "python",
   "pygments_lexer": "ipython3",
   "version": "3.7.6"
  },
  "papermill": {
   "duration": 678.665958,
   "end_time": "2021-01-27T12:06:45.228986",
   "environment_variables": {},
   "exception": null,
   "input_path": "__notebook__.ipynb",
   "output_path": "__notebook__.ipynb",
   "parameters": {},
   "start_time": "2021-01-27T11:55:26.563028",
   "version": "2.1.0"
  }
 },
 "nbformat": 4,
 "nbformat_minor": 4
}
